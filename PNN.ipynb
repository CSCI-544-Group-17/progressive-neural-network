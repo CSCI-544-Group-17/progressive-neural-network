{
  "nbformat": 4,
  "nbformat_minor": 0,
  "metadata": {
    "colab": {
      "provenance": [],
      "gpuType": "T4"
    },
    "kernelspec": {
      "name": "python3",
      "display_name": "Python 3"
    },
    "language_info": {
      "name": "python"
    },
    "accelerator": "GPU"
  },
  "cells": [
    {
      "cell_type": "code",
      "source": [
        "from google.colab import drive\n",
        "drive.mount('/content/drive')"
      ],
      "metadata": {
        "id": "3V6dJxixxrln",
        "colab": {
          "base_uri": "https://localhost:8080/"
        },
        "outputId": "93f45090-c2b3-4786-c418-4d6849ca9cc5"
      },
      "execution_count": 1,
      "outputs": [
        {
          "output_type": "stream",
          "name": "stdout",
          "text": [
            "Mounted at /content/drive\n"
          ]
        }
      ]
    },
    {
      "cell_type": "markdown",
      "source": [
        "# Train Incrementally and Evaluate\n",
        "\n"
      ],
      "metadata": {
        "id": "95WfT7ekO8pC"
      }
    },
    {
      "cell_type": "code",
      "source": [
        "import torch\n",
        "import torch.nn as nn\n",
        "import torch.nn.functional as F\n",
        "import numpy as np\n",
        "from sklearn.metrics import accuracy_score, f1_score, precision_score, recall_score\n",
        "from torch.utils.data import DataLoader, TensorDataset\n",
        "\n",
        "class InitialColumnProgNN(nn.Module):\n",
        "    def __init__(self, topology, activations, lr):\n",
        "        super(InitialColumnProgNN, self).__init__()\n",
        "        self.layers = nn.ModuleList()\n",
        "        for i in range(len(topology) - 1):\n",
        "            self.layers.append(nn.Linear(topology[i], topology[i+1]))\n",
        "        self.activations = activations\n",
        "\n",
        "        # optimizer and criterion\n",
        "        self.criterion = nn.CrossEntropyLoss()\n",
        "        self.optimizer = torch.optim.Adam(self.parameters(), lr=lr)\n",
        "\n",
        "    def forward(self, x):\n",
        "        for i, layer in enumerate(self.layers):\n",
        "            x = layer(x)\n",
        "            # removinf softmax from last layer because of crossentropyloss function - vishal\n",
        "            if i != len(self.activations):\n",
        "              x = self.activations[i](x)\n",
        "        return x\n",
        "\n",
        "class ExtensibleColumnProgNN(nn.Module):\n",
        "    def __init__(self, topology, activations, prev_columns, lr):\n",
        "        super(ExtensibleColumnProgNN, self).__init__()\n",
        "        self.layers = nn.ModuleList()\n",
        "        self.lateral_connections = nn.ModuleList()\n",
        "        for i in range(len(topology) - 1):\n",
        "            self.layers.append(nn.Linear(topology[i], topology[i+1]))\n",
        "            if i > 0:\n",
        "                lateral = [nn.Linear(prev_column.layers[i-1].out_features, topology[i+1], bias=False) for prev_column in prev_columns]\n",
        "                self.lateral_connections.append(nn.ModuleList(lateral))\n",
        "        self.activations = activations\n",
        "        self.prev_columns = prev_columns\n",
        "\n",
        "        # optimizer and criterion\n",
        "        self.criterion = nn.CrossEntropyLoss()\n",
        "        self.optimizer = torch.optim.Adam(self.parameters(), lr=lr)\n",
        "\n",
        "    def forward(self, x):\n",
        "        prev_hs = [[[] for j in range(len(prev_col.layers))] for prev_col in self.prev_columns]\n",
        "\n",
        "        for j in range(len(self.prev_columns)):\n",
        "            x_copy = x.clone()\n",
        "            for i, col_layer in enumerate(self.prev_columns[j].layers):\n",
        "                x_copy = col_layer(x_copy)\n",
        "                # removinf softmax from last layer because of crossentropyloss function - vishal\n",
        "                if i != len(self.prev_columns[j].activations):\n",
        "                  x_copy = self.prev_columns[j].activations[i](x_copy)\n",
        "                prev_hs[j][i] = x_copy.clone()\n",
        "\n",
        "\n",
        "        for i, layer in enumerate(self.layers):\n",
        "            x = layer(x)\n",
        "            if i > 0:\n",
        "                for j, lateral in enumerate(self.lateral_connections[i-1]):\n",
        "                    x += lateral(prev_hs[j][i - 1])\n",
        "            # removinf softmax from last layer because of crossentropyloss function - vishal\n",
        "            if i != len(self.activations):\n",
        "              x = self.activations[i](x)\n",
        "        return x\n",
        "\n",
        "#todo: add training batch size later\n",
        "def train_column(column, data, target, epochs=50, batch_size=32):\n",
        "    # Create a dataset and data loader for batching\n",
        "    dataset = TensorDataset(data, target)\n",
        "    data_loader = DataLoader(dataset, batch_size=batch_size, shuffle=True)\n",
        "\n",
        "    # saved h_values for training lateral connections\n",
        "    for epoch in range(epochs):\n",
        "        for batch_data, batch_target in data_loader:\n",
        "            column.optimizer.zero_grad()\n",
        "\n",
        "            # forward pass\n",
        "            output = column(batch_data)\n",
        "\n",
        "            loss = column.criterion(output, batch_target)\n",
        "            loss.backward()\n",
        "            column.optimizer.step()\n",
        "        if epoch%10 == 9:\n",
        "          print(f'Epoch {epoch + 1}/{epochs}, Loss: {loss.item()}')\n",
        "\n",
        "def test_column(column, embeddings, labels):\n",
        "    column.eval()  # Set the model to evaluation mode todo: do we need to unset eval mode after testing??\n",
        "    with torch.no_grad():\n",
        "        test_outputs = column(embeddings)\n",
        "        logits, predicted = torch.max(test_outputs, 1)\n",
        "        return (logits, predicted)\n",
        "\n",
        "        # # Calculate accuracy\n",
        "        # accuracy = accuracy_score(labels, predicted)\n",
        "\n",
        "        # # Calculate F1 score\n",
        "        # f1 = f1_score(labels, predicted)\n",
        "\n",
        "        # # Calculate precision\n",
        "        # precision = precision_score(labels, predicted)\n",
        "\n",
        "        # # Calculate recall\n",
        "        # recall = recall_score(labels, predicted)\n",
        "\n",
        "        # print(\"Accuracy: {:.2f}\".format(accuracy))\n",
        "        # print(\"F1 Score: {:.2f}\".format(f1))\n",
        "        # print(\"Precision: {:.2f}\".format(precision))\n",
        "        # print(\"Recall: {:.2f}\".format(recall))\n",
        "\n",
        "class PNN():\n",
        "    def __init__(self):\n",
        "        self.num_classes = 1\n",
        "\n",
        "        self.topology = [256, 100, 64, 25, 2]\n",
        "        self.activations = [F.relu, F.relu, F.relu]\n",
        "\n",
        "        self.lr = 0.001\n",
        "\n",
        "        # Instantiate the first module\n",
        "        self.subnetworks = [InitialColumnProgNN(self.topology, self.activations, self.lr)]\n",
        "\n",
        "        # # Define the layer on top\n",
        "        # self.output_layer = nn.Linear(in_features=num_classes*2, out_features=num_classes)\n",
        "\n",
        "    def add_network(self):\n",
        "        self.num_classes += 1\n",
        "        self.subnetworks.append(ExtensibleColumnProgNN(self.topology, self.activations, self.subnetworks, self.lr))\n",
        "\n",
        "    def train(self, subnetwork, embeddings, labels):\n",
        "        for i in range(self.num_classes):\n",
        "            if i == subnetwork:\n",
        "                # Unfreeze the parameters of the modules\n",
        "                for param in self.subnetworks[i].parameters():\n",
        "                    param.requires_grad = True\n",
        "            else:\n",
        "                # Freeze the parameters of the modules\n",
        "                for param in self.subnetworks[i].parameters():\n",
        "                    param.requires_grad = False\n",
        "        # Train the relevant PNN\n",
        "        train_column(self.subnetworks[subnetwork], embeddings, labels, epochs=50)\n",
        "\n",
        "        #Unfreeze all parameters\n",
        "        for i in range(self.num_classes):\n",
        "            for param in self.subnetworks[i].parameters():\n",
        "                    param.requires_grad = True\n",
        "\n",
        "    def test(self, embeddings, labels, i):\n",
        "        confidence_scores_class_arr = []\n",
        "        predictions_class_arr = []\n",
        "        for i in range(self.num_classes):\n",
        "            # print('\\nResults for class', i, '-')\n",
        "            confidence_scores, predictions = test_column(self.subnetworks[i], embeddings, labels[i])\n",
        "            confidence_scores_class_arr.append(confidence_scores)\n",
        "            predictions_class_arr.append(predictions)\n",
        "\n",
        "        one_hot_predictions = []\n",
        "        for j in range(len(labels)):\n",
        "            tmp = [0]*self.num_classes\n",
        "\n",
        "            max_confidence = float('-inf')\n",
        "            max_idx = -1\n",
        "            for i in range(self.num_classes):\n",
        "                if confidence_scores_class_arr[i][j] > max_confidence and predictions_class_arr[i][j] == 1:\n",
        "                    max_confidence = confidence_scores_class_arr[i][j]\n",
        "                    max_idx = i\n",
        "\n",
        "            if max_idx != -1:\n",
        "                tmp[max_idx] = 1\n",
        "\n",
        "            one_hot_predictions.append(tmp)\n",
        "\n",
        "        # Convert one-hot encoded ground truth and predictions to class labels\n",
        "        true_class_labels = []\n",
        "        predicted_class_labels = []\n",
        "        for j in range(len(labels)):\n",
        "            flag = True\n",
        "            for i in range(self.num_classes):\n",
        "                if labels[j][i] == 1:\n",
        "                    flag = False\n",
        "                    true_class_labels.append(i + 1)\n",
        "                    break\n",
        "            if flag:\n",
        "                true_class_labels.append(0)\n",
        "\n",
        "        for j in range(len(one_hot_predictions)):\n",
        "            flag = True\n",
        "            for i in range(self.num_classes):\n",
        "                if one_hot_predictions[j][i] == 1:\n",
        "                    flag = False\n",
        "                    predicted_class_labels.append(i + 1)\n",
        "                    break\n",
        "            if flag:\n",
        "                predicted_class_labels.append(0)\n",
        "\n",
        "        print(true_class_labels)\n",
        "        print(predicted_class_labels)\n",
        "\n",
        "        # Compute metrics\n",
        "        accuracy = accuracy_score(true_class_labels, predicted_class_labels)\n",
        "        f1 = f1_score(true_class_labels, predicted_class_labels, average='macro')\n",
        "        precision = precision_score(true_class_labels, predicted_class_labels, average='macro')\n",
        "        recall = recall_score(true_class_labels, predicted_class_labels, average='macro')\n",
        "\n",
        "        print(f'Accuracy: {accuracy}')\n",
        "        print(f'F1 Score: {f1}')\n",
        "        print(f'Precision: {precision}')\n",
        "        print(f'Recall: {recall}')\n",
        "\n",
        "\n",
        "model = PNN()\n",
        "\n",
        "# train_column(model, embeddings0, labels0, epochs=50)"
      ],
      "metadata": {
        "id": "wgLE9b8ndwSY"
      },
      "execution_count": 116,
      "outputs": []
    },
    {
      "cell_type": "code",
      "source": [
        "model.subnetworks"
      ],
      "metadata": {
        "colab": {
          "base_uri": "https://localhost:8080/"
        },
        "id": "VQD45hHaiTAe",
        "outputId": "df1b2e0b-3674-4cb2-eae4-727cf6b83cdc"
      },
      "execution_count": 117,
      "outputs": [
        {
          "output_type": "execute_result",
          "data": {
            "text/plain": [
              "[InitialColumnProgNN(\n",
              "   (layers): ModuleList(\n",
              "     (0): Linear(in_features=256, out_features=100, bias=True)\n",
              "     (1): Linear(in_features=100, out_features=64, bias=True)\n",
              "     (2): Linear(in_features=64, out_features=25, bias=True)\n",
              "     (3): Linear(in_features=25, out_features=2, bias=True)\n",
              "   )\n",
              "   (criterion): CrossEntropyLoss()\n",
              " )]"
            ]
          },
          "metadata": {},
          "execution_count": 117
        }
      ]
    },
    {
      "cell_type": "markdown",
      "source": [
        "# Task 1"
      ],
      "metadata": {
        "id": "F-c08R5cjI8i"
      }
    },
    {
      "cell_type": "code",
      "source": [
        "import json\n",
        "import torch\n",
        "embeddings = []\n",
        "labels = []\n",
        "\n",
        "for i in range(1, 5):\n",
        "    with open(f'/content/drive/MyDrive/CSCI544-Project/data/class_wise_embeddings/train_embeddings/dos_train_file_{i}.json', 'r') as f:\n",
        "        for line in f:\n",
        "            data = json.loads(line)\n",
        "            embeddings.append(data['embeddings'][0])\n",
        "            labels.append(data['label'])\n",
        "\n",
        "# Convert lists to tensors\n",
        "embeddings0 = torch.tensor(embeddings)\n",
        "labels0 = torch.tensor(labels)\n",
        "\n",
        "print(embeddings0.size())  # This will show the shape of the embeddings tensor\n",
        "print(labels0.size())     # This will show the shape of the labels tensor\n",
        "\n",
        "model.train(0, embeddings=embeddings0, labels=labels0)"
      ],
      "metadata": {
        "colab": {
          "base_uri": "https://localhost:8080/"
        },
        "id": "fQNHp2iy-oSG",
        "outputId": "4cf81b2d-24c5-4b3c-c4b9-a1b8f7ce9edb"
      },
      "execution_count": 118,
      "outputs": [
        {
          "output_type": "stream",
          "name": "stdout",
          "text": [
            "torch.Size([4437, 256])\n",
            "torch.Size([4437])\n",
            "Epoch 10/50, Loss: 0.4558800756931305\n",
            "Epoch 20/50, Loss: 0.019321078434586525\n",
            "Epoch 30/50, Loss: 0.021809855476021767\n",
            "Epoch 40/50, Loss: 0.002580881817266345\n",
            "Epoch 50/50, Loss: 0.020021792501211166\n"
          ]
        }
      ]
    },
    {
      "cell_type": "code",
      "source": [
        "embeddings = []\n",
        "labels = []\n",
        "\n",
        "with open(f'/content/drive/MyDrive/CSCI544-Project/data/class_wise_embeddings/test_embeddings/dos_test_file.json', 'r') as f:\n",
        "    for line in f:\n",
        "        data = json.loads(line)\n",
        "        embeddings.append(data['embeddings'][0])\n",
        "        labels.append([data['label']])\n",
        "\n",
        "# Convert lists to tensors\n",
        "embeddings0 = torch.tensor(embeddings)\n",
        "labels0 = torch.tensor(labels)\n",
        "\n",
        "print(embeddings0.size())  # This will show the shape of the embeddings tensor\n",
        "print(labels0.size())     # This will show the shape of the labels tensor\n",
        "\n",
        "model.test(embeddings0, labels0, 0)"
      ],
      "metadata": {
        "colab": {
          "base_uri": "https://localhost:8080/"
        },
        "id": "1sraZqUdP4HY",
        "outputId": "470da69c-06c3-4936-af71-c8bac24c1282"
      },
      "execution_count": 119,
      "outputs": [
        {
          "output_type": "stream",
          "name": "stdout",
          "text": [
            "torch.Size([1109, 256])\n",
            "torch.Size([1109, 1])\n",
            "[0, 0, 1, 0, 1, 0, 1, 1, 1, 0, 1, 1, 1, 1, 1, 1, 0, 0, 1, 0, 1, 0, 0, 1, 1, 0, 1, 1, 0, 1, 1, 1, 1, 1, 1, 1, 0, 1, 0, 1, 0, 0, 0, 0, 1, 1, 1, 1, 0, 1, 0, 1, 1, 0, 0, 0, 0, 1, 0, 1, 1, 1, 1, 1, 0, 1, 1, 1, 0, 1, 1, 0, 0, 1, 1, 0, 1, 0, 1, 0, 1, 1, 0, 1, 0, 0, 0, 0, 1, 0, 0, 1, 0, 1, 0, 0, 0, 1, 0, 1, 1, 1, 1, 0, 0, 1, 0, 1, 0, 1, 0, 1, 1, 0, 1, 1, 0, 1, 1, 1, 0, 1, 1, 1, 1, 0, 1, 0, 0, 0, 0, 1, 0, 1, 1, 1, 1, 0, 0, 1, 1, 0, 1, 1, 1, 1, 0, 0, 0, 1, 1, 1, 1, 1, 1, 1, 0, 1, 1, 0, 1, 1, 1, 0, 1, 1, 1, 0, 0, 1, 1, 0, 0, 1, 1, 0, 0, 1, 0, 1, 0, 0, 0, 1, 1, 1, 0, 0, 0, 1, 0, 0, 0, 0, 0, 1, 1, 1, 1, 1, 0, 1, 1, 1, 0, 1, 1, 0, 1, 1, 1, 0, 0, 0, 0, 1, 0, 1, 0, 1, 1, 1, 1, 1, 1, 0, 0, 0, 1, 0, 1, 1, 1, 0, 1, 0, 0, 1, 0, 1, 1, 1, 1, 0, 1, 0, 1, 0, 1, 0, 0, 0, 1, 1, 1, 1, 0, 0, 1, 1, 1, 0, 0, 1, 0, 0, 0, 0, 1, 1, 0, 1, 1, 1, 1, 0, 0, 1, 1, 1, 1, 1, 1, 0, 0, 0, 0, 0, 1, 1, 1, 0, 1, 0, 0, 0, 1, 0, 1, 1, 1, 1, 1, 0, 0, 0, 1, 1, 1, 0, 1, 1, 0, 1, 1, 1, 1, 1, 1, 1, 1, 1, 0, 0, 0, 0, 0, 0, 1, 1, 0, 0, 1, 0, 1, 0, 0, 1, 0, 1, 0, 1, 0, 1, 1, 0, 0, 1, 1, 1, 0, 1, 0, 1, 0, 1, 0, 0, 1, 1, 1, 1, 1, 0, 0, 0, 1, 0, 0, 1, 1, 1, 0, 0, 0, 0, 0, 1, 0, 1, 1, 1, 0, 0, 1, 1, 0, 0, 0, 0, 0, 1, 0, 0, 1, 1, 1, 1, 1, 0, 1, 0, 1, 1, 0, 1, 1, 0, 0, 0, 1, 1, 0, 0, 0, 1, 1, 1, 0, 0, 1, 1, 1, 1, 0, 0, 1, 0, 1, 0, 0, 1, 0, 1, 1, 1, 1, 1, 0, 1, 0, 0, 0, 0, 1, 1, 0, 1, 0, 0, 0, 0, 1, 0, 0, 0, 1, 1, 1, 0, 0, 1, 1, 1, 1, 1, 1, 0, 1, 0, 0, 1, 1, 1, 0, 0, 0, 1, 0, 1, 1, 1, 1, 0, 0, 1, 1, 1, 1, 1, 0, 1, 1, 0, 0, 1, 0, 0, 0, 0, 0, 0, 0, 0, 1, 1, 1, 0, 0, 0, 1, 1, 0, 1, 0, 0, 0, 0, 0, 0, 1, 1, 0, 1, 1, 0, 1, 1, 0, 1, 1, 1, 1, 1, 1, 1, 0, 0, 0, 1, 1, 0, 0, 0, 0, 0, 0, 0, 1, 0, 1, 0, 1, 0, 0, 1, 0, 1, 1, 0, 0, 1, 0, 0, 1, 0, 1, 1, 0, 0, 1, 1, 0, 0, 0, 0, 1, 1, 0, 0, 1, 1, 1, 1, 1, 1, 0, 1, 1, 1, 0, 0, 1, 0, 0, 0, 1, 1, 0, 1, 0, 0, 1, 0, 1, 1, 1, 1, 1, 1, 0, 1, 1, 0, 1, 1, 0, 0, 1, 1, 0, 0, 1, 0, 0, 1, 0, 0, 0, 0, 1, 1, 1, 0, 1, 1, 0, 1, 0, 1, 1, 0, 0, 1, 0, 1, 1, 0, 0, 1, 0, 0, 1, 0, 0, 1, 0, 0, 0, 1, 1, 0, 1, 0, 1, 1, 1, 0, 0, 1, 1, 1, 1, 1, 0, 0, 0, 0, 1, 1, 1, 0, 0, 0, 1, 0, 0, 0, 0, 1, 0, 1, 1, 1, 0, 1, 0, 0, 1, 1, 0, 1, 1, 0, 1, 0, 0, 0, 0, 0, 0, 1, 1, 1, 1, 1, 0, 1, 0, 1, 1, 0, 1, 1, 1, 1, 0, 0, 0, 0, 1, 0, 0, 1, 0, 1, 1, 1, 1, 0, 0, 0, 0, 0, 0, 0, 1, 1, 1, 0, 1, 0, 0, 0, 0, 0, 0, 0, 0, 0, 1, 1, 1, 1, 0, 1, 0, 1, 1, 0, 1, 0, 0, 0, 0, 1, 1, 0, 0, 1, 0, 0, 1, 0, 1, 1, 0, 0, 1, 0, 0, 1, 1, 0, 0, 1, 1, 1, 1, 0, 1, 1, 0, 0, 1, 0, 1, 1, 0, 1, 1, 0, 1, 0, 0, 1, 0, 1, 0, 1, 1, 1, 0, 0, 0, 0, 1, 1, 0, 1, 0, 0, 1, 0, 0, 0, 0, 0, 1, 0, 0, 1, 0, 0, 1, 1, 1, 1, 1, 0, 1, 1, 0, 1, 1, 1, 0, 0, 0, 1, 1, 1, 0, 1, 1, 0, 0, 1, 0, 0, 0, 0, 1, 1, 1, 0, 1, 0, 0, 0, 0, 0, 1, 0, 1, 1, 1, 1, 0, 0, 0, 1, 1, 1, 0, 1, 1, 1, 1, 1, 0, 0, 0, 0, 1, 0, 1, 1, 1, 0, 0, 0, 1, 0, 1, 0, 0, 0, 0, 1, 1, 1, 1, 1, 1, 1, 0, 1, 1, 0, 1, 1, 1, 0, 1, 0, 1, 1, 0, 0, 1, 1, 0, 0, 1, 0, 0, 0, 1, 0, 1, 0, 1, 0, 1, 0, 1, 1, 0, 0, 0, 1, 1, 1, 0, 1, 1, 0, 0, 1, 0, 1, 0, 1, 0, 0, 0, 1, 0, 1, 0, 0, 0, 0, 0, 0, 1, 1, 1, 1, 0, 1, 0, 0, 1, 0, 0, 1, 0, 1, 0, 1, 0, 0, 1, 0, 1, 1, 0, 0, 1, 0, 0, 0, 1, 1, 0, 1, 1, 0, 1, 0, 1, 1, 0, 1, 0, 0, 1, 1, 0, 0, 0, 0, 1, 0, 0, 0, 1, 1, 0, 1, 0, 0, 0, 0, 0, 1, 1, 0, 0, 1, 0, 0, 0, 0, 1, 0, 1, 1, 0, 1, 1, 0, 0, 1, 0, 1, 1, 1, 0, 1, 1, 0, 0, 0, 0, 1, 1, 0, 0, 0, 1, 0, 0, 1, 0, 0, 0, 0, 1, 1, 0, 0, 0, 0, 0, 1, 1, 1, 1, 1, 1, 0, 0, 1, 0, 1, 0]\n",
            "[0, 1, 1, 0, 1, 0, 0, 0, 1, 0, 1, 1, 0, 1, 1, 1, 0, 1, 1, 0, 1, 1, 1, 1, 1, 0, 1, 0, 1, 0, 0, 1, 1, 1, 1, 0, 0, 1, 0, 0, 0, 1, 0, 0, 1, 1, 1, 1, 0, 0, 0, 1, 1, 1, 1, 1, 0, 1, 0, 1, 1, 1, 1, 1, 0, 0, 1, 1, 1, 0, 1, 0, 1, 1, 1, 1, 1, 0, 1, 0, 1, 1, 1, 1, 0, 0, 1, 0, 1, 0, 0, 0, 0, 0, 1, 0, 1, 1, 0, 1, 1, 0, 1, 0, 0, 1, 0, 0, 0, 1, 1, 1, 0, 0, 0, 1, 0, 1, 1, 1, 0, 1, 1, 1, 1, 1, 1, 0, 0, 1, 0, 1, 0, 1, 1, 1, 1, 0, 1, 1, 1, 0, 1, 0, 1, 0, 0, 1, 0, 0, 1, 1, 1, 0, 1, 1, 0, 0, 1, 0, 1, 1, 1, 1, 1, 0, 1, 0, 0, 0, 1, 1, 0, 0, 1, 0, 0, 1, 0, 1, 0, 0, 0, 1, 1, 1, 1, 0, 1, 0, 1, 1, 0, 0, 1, 1, 0, 1, 1, 1, 0, 1, 1, 1, 0, 1, 0, 1, 1, 1, 0, 0, 0, 1, 0, 1, 0, 1, 0, 0, 1, 0, 0, 0, 0, 0, 0, 0, 0, 0, 1, 0, 0, 1, 1, 0, 0, 1, 0, 1, 0, 1, 1, 1, 1, 0, 1, 1, 0, 0, 1, 1, 1, 1, 1, 0, 0, 0, 1, 1, 1, 0, 0, 1, 1, 1, 0, 0, 0, 0, 0, 1, 0, 0, 0, 0, 0, 1, 1, 1, 0, 1, 1, 0, 1, 0, 0, 0, 1, 1, 1, 1, 0, 1, 0, 0, 0, 1, 1, 1, 1, 1, 1, 1, 0, 1, 1, 1, 1, 1, 0, 1, 0, 1, 0, 1, 0, 0, 1, 1, 1, 0, 1, 0, 0, 0, 0, 1, 1, 0, 0, 0, 1, 1, 1, 0, 0, 1, 0, 0, 1, 1, 0, 0, 1, 1, 1, 1, 0, 0, 0, 1, 0, 1, 0, 1, 0, 1, 0, 0, 1, 0, 0, 0, 0, 0, 0, 1, 1, 0, 1, 1, 0, 0, 0, 0, 0, 1, 0, 1, 1, 1, 0, 0, 1, 1, 0, 1, 1, 1, 0, 0, 0, 1, 0, 1, 1, 1, 1, 0, 1, 1, 0, 1, 0, 1, 1, 0, 0, 0, 0, 1, 0, 0, 0, 1, 1, 1, 0, 0, 1, 1, 1, 1, 0, 0, 0, 0, 0, 1, 0, 1, 0, 1, 0, 1, 0, 0, 1, 0, 0, 0, 1, 0, 1, 0, 0, 0, 0, 0, 0, 0, 1, 1, 0, 0, 1, 0, 0, 1, 0, 1, 1, 1, 1, 1, 1, 0, 1, 0, 0, 1, 0, 1, 1, 1, 0, 1, 0, 1, 0, 1, 1, 1, 0, 1, 0, 1, 0, 1, 0, 0, 1, 1, 0, 0, 0, 0, 0, 0, 1, 1, 1, 0, 1, 1, 1, 1, 0, 0, 1, 0, 0, 0, 0, 0, 0, 0, 0, 0, 0, 0, 1, 1, 1, 1, 1, 1, 0, 0, 1, 0, 1, 1, 1, 1, 0, 1, 1, 1, 0, 1, 0, 0, 1, 1, 0, 0, 0, 0, 0, 0, 1, 0, 0, 1, 1, 1, 1, 0, 1, 1, 1, 0, 1, 0, 1, 1, 1, 1, 0, 1, 0, 0, 0, 0, 1, 0, 1, 0, 0, 0, 1, 0, 0, 0, 0, 1, 0, 0, 1, 0, 1, 1, 0, 0, 1, 1, 0, 1, 0, 0, 0, 0, 1, 1, 1, 1, 0, 1, 1, 1, 1, 0, 1, 1, 0, 0, 1, 1, 0, 1, 0, 0, 1, 1, 1, 1, 1, 0, 0, 1, 1, 0, 1, 1, 1, 1, 0, 1, 1, 0, 0, 1, 1, 1, 0, 1, 1, 1, 0, 0, 1, 0, 0, 0, 0, 1, 0, 0, 0, 0, 1, 0, 0, 0, 1, 0, 0, 0, 1, 1, 1, 1, 0, 0, 0, 1, 1, 1, 0, 0, 1, 1, 0, 0, 0, 0, 1, 1, 0, 0, 1, 0, 0, 1, 0, 0, 0, 1, 0, 1, 1, 1, 1, 0, 0, 1, 0, 0, 0, 1, 1, 1, 1, 1, 1, 0, 0, 1, 0, 1, 0, 1, 1, 1, 0, 0, 0, 0, 1, 0, 0, 1, 0, 0, 1, 1, 1, 1, 0, 0, 0, 0, 0, 0, 1, 0, 1, 1, 1, 1, 0, 0, 1, 0, 0, 0, 1, 0, 1, 1, 0, 1, 0, 1, 0, 0, 0, 0, 0, 0, 0, 1, 1, 1, 1, 1, 0, 1, 1, 0, 1, 1, 1, 1, 1, 0, 1, 0, 0, 0, 0, 0, 0, 1, 0, 0, 1, 0, 0, 0, 1, 0, 1, 1, 1, 1, 0, 1, 1, 0, 0, 0, 0, 0, 0, 1, 1, 1, 1, 1, 0, 0, 1, 0, 1, 0, 0, 1, 0, 1, 1, 0, 0, 0, 1, 1, 1, 0, 0, 1, 0, 0, 1, 1, 1, 1, 1, 0, 1, 0, 0, 1, 1, 0, 0, 0, 0, 0, 1, 1, 0, 0, 1, 1, 0, 1, 0, 1, 0, 0, 0, 1, 1, 0, 0, 0, 1, 0, 0, 0, 1, 1, 1, 1, 1, 1, 0, 0, 0, 1, 1, 1, 0, 1, 1, 1, 1, 1, 0, 0, 0, 0, 0, 0, 1, 1, 1, 0, 0, 0, 1, 0, 1, 0, 0, 0, 0, 1, 1, 1, 1, 1, 1, 1, 0, 1, 1, 1, 1, 1, 1, 0, 1, 0, 1, 0, 0, 0, 1, 1, 0, 0, 1, 0, 0, 0, 0, 0, 1, 0, 0, 0, 1, 0, 1, 1, 0, 0, 0, 1, 1, 1, 0, 1, 0, 0, 0, 1, 0, 0, 1, 1, 1, 1, 0, 1, 0, 1, 0, 0, 0, 0, 0, 0, 1, 1, 0, 1, 0, 1, 0, 1, 1, 0, 0, 0, 0, 0, 0, 1, 1, 1, 1, 0, 1, 0, 0, 0, 0, 0, 1, 1, 0, 0, 0, 0, 1, 1, 1, 0, 1, 1, 0, 0, 1, 0, 1, 1, 0, 0, 1, 1, 1, 0, 0, 0, 1, 1, 1, 0, 0, 0, 1, 0, 0, 1, 1, 0, 0, 1, 1, 0, 0, 0, 1, 0, 1, 1, 0, 1, 1, 1, 1, 0, 0, 1, 1, 1, 0, 1, 0, 1, 1, 0, 0, 1, 1, 1, 0, 0, 1, 0, 0, 1, 0, 0, 1, 1, 1, 1, 0, 0, 0, 1, 0, 0, 0, 1, 0, 1, 0, 0, 0, 1, 1, 1, 0]\n",
            "Accuracy: 0.715058611361587\n",
            "F1 Score: 0.7149916395031848\n",
            "Precision: 0.7150040329924805\n",
            "Recall: 0.7151467812276249\n"
          ]
        }
      ]
    },
    {
      "cell_type": "markdown",
      "source": [
        "# Task 2"
      ],
      "metadata": {
        "id": "XSYYXX6JkN--"
      }
    },
    {
      "cell_type": "code",
      "source": [
        "import json\n",
        "import torch\n",
        "embeddings = []\n",
        "labels = []\n",
        "\n",
        "for i in range(1, 5):\n",
        "    with open(f'/content/drive/MyDrive/CSCI544-Project/data/class_wise_embeddings/train_embeddings/+info_train_file_{i}.json', 'r') as f:\n",
        "        for line in f:\n",
        "            data = json.loads(line)\n",
        "            embeddings.append(data['embeddings'][0])\n",
        "            labels.append(data['label'])\n",
        "\n",
        "# Convert lists to tensors\n",
        "embeddings0 = torch.tensor(embeddings)\n",
        "labels0 = torch.tensor(labels)\n",
        "\n",
        "print(embeddings0.size())  # This will show the shape of the embeddings tensor\n",
        "print(labels0.size())     # This will show the shape of the labels tensor\n",
        "\n",
        "model.add_network()\n",
        "model.train(1, embeddings=embeddings0, labels=labels0)"
      ],
      "metadata": {
        "colab": {
          "base_uri": "https://localhost:8080/"
        },
        "id": "p0Zji3jmQank",
        "outputId": "42160215-659d-4a70-ee4a-7606319b0b8b"
      },
      "execution_count": 120,
      "outputs": [
        {
          "output_type": "stream",
          "name": "stdout",
          "text": [
            "torch.Size([984, 256])\n",
            "torch.Size([984])\n",
            "Epoch 10/50, Loss: 0.6026760935783386\n",
            "Epoch 20/50, Loss: 0.00683538056910038\n",
            "Epoch 30/50, Loss: 0.01303717028349638\n",
            "Epoch 40/50, Loss: 0.059830281883478165\n",
            "Epoch 50/50, Loss: 0.001667840057052672\n"
          ]
        }
      ]
    },
    {
      "cell_type": "code",
      "source": [
        "embeddings = []\n",
        "labels = []\n",
        "\n",
        "with open(f'/content/drive/MyDrive/CSCI544-Project/data/class_wise_embeddings/test_embeddings/dos_test_file.json', 'r') as f:\n",
        "    for line in f:\n",
        "        data = json.loads(line)\n",
        "        embeddings.append(data['embeddings'][0])\n",
        "        labels.append([data['label'], 0])\n",
        "\n",
        "with open(f'/content/drive/MyDrive/CSCI544-Project/data/class_wise_embeddings/test_embeddings/+info_test_file.json', 'r') as f:\n",
        "    for line in f:\n",
        "        data = json.loads(line)\n",
        "        embeddings.append(data['embeddings'][0])\n",
        "        labels.append([0, data['label']])\n",
        "\n",
        "# Convert lists to tensors\n",
        "embeddings0 = torch.tensor(embeddings)\n",
        "labels0 = torch.tensor(labels)\n",
        "\n",
        "model.test(embeddings0, labels0, 1)"
      ],
      "metadata": {
        "colab": {
          "base_uri": "https://localhost:8080/"
        },
        "id": "3WX1WVq8uoXV",
        "outputId": "456f9603-b09a-4cbc-c20a-17e5c069659e"
      },
      "execution_count": 121,
      "outputs": [
        {
          "output_type": "stream",
          "name": "stdout",
          "text": [
            "[0, 0, 1, 0, 1, 0, 1, 1, 1, 0, 1, 1, 1, 1, 1, 1, 0, 0, 1, 0, 1, 0, 0, 1, 1, 0, 1, 1, 0, 1, 1, 1, 1, 1, 1, 1, 0, 1, 0, 1, 0, 0, 0, 0, 1, 1, 1, 1, 0, 1, 0, 1, 1, 0, 0, 0, 0, 1, 0, 1, 1, 1, 1, 1, 0, 1, 1, 1, 0, 1, 1, 0, 0, 1, 1, 0, 1, 0, 1, 0, 1, 1, 0, 1, 0, 0, 0, 0, 1, 0, 0, 1, 0, 1, 0, 0, 0, 1, 0, 1, 1, 1, 1, 0, 0, 1, 0, 1, 0, 1, 0, 1, 1, 0, 1, 1, 0, 1, 1, 1, 0, 1, 1, 1, 1, 0, 1, 0, 0, 0, 0, 1, 0, 1, 1, 1, 1, 0, 0, 1, 1, 0, 1, 1, 1, 1, 0, 0, 0, 1, 1, 1, 1, 1, 1, 1, 0, 1, 1, 0, 1, 1, 1, 0, 1, 1, 1, 0, 0, 1, 1, 0, 0, 1, 1, 0, 0, 1, 0, 1, 0, 0, 0, 1, 1, 1, 0, 0, 0, 1, 0, 0, 0, 0, 0, 1, 1, 1, 1, 1, 0, 1, 1, 1, 0, 1, 1, 0, 1, 1, 1, 0, 0, 0, 0, 1, 0, 1, 0, 1, 1, 1, 1, 1, 1, 0, 0, 0, 1, 0, 1, 1, 1, 0, 1, 0, 0, 1, 0, 1, 1, 1, 1, 0, 1, 0, 1, 0, 1, 0, 0, 0, 1, 1, 1, 1, 0, 0, 1, 1, 1, 0, 0, 1, 0, 0, 0, 0, 1, 1, 0, 1, 1, 1, 1, 0, 0, 1, 1, 1, 1, 1, 1, 0, 0, 0, 0, 0, 1, 1, 1, 0, 1, 0, 0, 0, 1, 0, 1, 1, 1, 1, 1, 0, 0, 0, 1, 1, 1, 0, 1, 1, 0, 1, 1, 1, 1, 1, 1, 1, 1, 1, 0, 0, 0, 0, 0, 0, 1, 1, 0, 0, 1, 0, 1, 0, 0, 1, 0, 1, 0, 1, 0, 1, 1, 0, 0, 1, 1, 1, 0, 1, 0, 1, 0, 1, 0, 0, 1, 1, 1, 1, 1, 0, 0, 0, 1, 0, 0, 1, 1, 1, 0, 0, 0, 0, 0, 1, 0, 1, 1, 1, 0, 0, 1, 1, 0, 0, 0, 0, 0, 1, 0, 0, 1, 1, 1, 1, 1, 0, 1, 0, 1, 1, 0, 1, 1, 0, 0, 0, 1, 1, 0, 0, 0, 1, 1, 1, 0, 0, 1, 1, 1, 1, 0, 0, 1, 0, 1, 0, 0, 1, 0, 1, 1, 1, 1, 1, 0, 1, 0, 0, 0, 0, 1, 1, 0, 1, 0, 0, 0, 0, 1, 0, 0, 0, 1, 1, 1, 0, 0, 1, 1, 1, 1, 1, 1, 0, 1, 0, 0, 1, 1, 1, 0, 0, 0, 1, 0, 1, 1, 1, 1, 0, 0, 1, 1, 1, 1, 1, 0, 1, 1, 0, 0, 1, 0, 0, 0, 0, 0, 0, 0, 0, 1, 1, 1, 0, 0, 0, 1, 1, 0, 1, 0, 0, 0, 0, 0, 0, 1, 1, 0, 1, 1, 0, 1, 1, 0, 1, 1, 1, 1, 1, 1, 1, 0, 0, 0, 1, 1, 0, 0, 0, 0, 0, 0, 0, 1, 0, 1, 0, 1, 0, 0, 1, 0, 1, 1, 0, 0, 1, 0, 0, 1, 0, 1, 1, 0, 0, 1, 1, 0, 0, 0, 0, 1, 1, 0, 0, 1, 1, 1, 1, 1, 1, 0, 1, 1, 1, 0, 0, 1, 0, 0, 0, 1, 1, 0, 1, 0, 0, 1, 0, 1, 1, 1, 1, 1, 1, 0, 1, 1, 0, 1, 1, 0, 0, 1, 1, 0, 0, 1, 0, 0, 1, 0, 0, 0, 0, 1, 1, 1, 0, 1, 1, 0, 1, 0, 1, 1, 0, 0, 1, 0, 1, 1, 0, 0, 1, 0, 0, 1, 0, 0, 1, 0, 0, 0, 1, 1, 0, 1, 0, 1, 1, 1, 0, 0, 1, 1, 1, 1, 1, 0, 0, 0, 0, 1, 1, 1, 0, 0, 0, 1, 0, 0, 0, 0, 1, 0, 1, 1, 1, 0, 1, 0, 0, 1, 1, 0, 1, 1, 0, 1, 0, 0, 0, 0, 0, 0, 1, 1, 1, 1, 1, 0, 1, 0, 1, 1, 0, 1, 1, 1, 1, 0, 0, 0, 0, 1, 0, 0, 1, 0, 1, 1, 1, 1, 0, 0, 0, 0, 0, 0, 0, 1, 1, 1, 0, 1, 0, 0, 0, 0, 0, 0, 0, 0, 0, 1, 1, 1, 1, 0, 1, 0, 1, 1, 0, 1, 0, 0, 0, 0, 1, 1, 0, 0, 1, 0, 0, 1, 0, 1, 1, 0, 0, 1, 0, 0, 1, 1, 0, 0, 1, 1, 1, 1, 0, 1, 1, 0, 0, 1, 0, 1, 1, 0, 1, 1, 0, 1, 0, 0, 1, 0, 1, 0, 1, 1, 1, 0, 0, 0, 0, 1, 1, 0, 1, 0, 0, 1, 0, 0, 0, 0, 0, 1, 0, 0, 1, 0, 0, 1, 1, 1, 1, 1, 0, 1, 1, 0, 1, 1, 1, 0, 0, 0, 1, 1, 1, 0, 1, 1, 0, 0, 1, 0, 0, 0, 0, 1, 1, 1, 0, 1, 0, 0, 0, 0, 0, 1, 0, 1, 1, 1, 1, 0, 0, 0, 1, 1, 1, 0, 1, 1, 1, 1, 1, 0, 0, 0, 0, 1, 0, 1, 1, 1, 0, 0, 0, 1, 0, 1, 0, 0, 0, 0, 1, 1, 1, 1, 1, 1, 1, 0, 1, 1, 0, 1, 1, 1, 0, 1, 0, 1, 1, 0, 0, 1, 1, 0, 0, 1, 0, 0, 0, 1, 0, 1, 0, 1, 0, 1, 0, 1, 1, 0, 0, 0, 1, 1, 1, 0, 1, 1, 0, 0, 1, 0, 1, 0, 1, 0, 0, 0, 1, 0, 1, 0, 0, 0, 0, 0, 0, 1, 1, 1, 1, 0, 1, 0, 0, 1, 0, 0, 1, 0, 1, 0, 1, 0, 0, 1, 0, 1, 1, 0, 0, 1, 0, 0, 0, 1, 1, 0, 1, 1, 0, 1, 0, 1, 1, 0, 1, 0, 0, 1, 1, 0, 0, 0, 0, 1, 0, 0, 0, 1, 1, 0, 1, 0, 0, 0, 0, 0, 1, 1, 0, 0, 1, 0, 0, 0, 0, 1, 0, 1, 1, 0, 1, 1, 0, 0, 1, 0, 1, 1, 1, 0, 1, 1, 0, 0, 0, 0, 1, 1, 0, 0, 0, 1, 0, 0, 1, 0, 0, 0, 0, 1, 1, 0, 0, 0, 0, 0, 1, 1, 1, 1, 1, 1, 0, 0, 1, 0, 1, 0, 2, 2, 2, 2, 0, 0, 0, 2, 0, 0, 0, 2, 2, 2, 0, 2, 0, 2, 0, 0, 2, 2, 0, 2, 0, 2, 2, 0, 2, 0, 2, 0, 2, 2, 0, 2, 0, 0, 2, 2, 0, 2, 2, 0, 0, 2, 0, 2, 2, 2, 0, 2, 0, 0, 0, 0, 0, 2, 2, 0, 2, 0, 2, 0, 2, 0, 2, 0, 0, 0, 0, 0, 0, 0, 2, 2, 0, 0, 2, 2, 2, 2, 2, 0, 2, 0, 2, 0, 2, 0, 2, 0, 2, 2, 0, 2, 0, 0, 0, 0, 2, 0, 2, 0, 2, 0, 0, 0, 0, 2, 2, 0, 2, 2, 2, 0, 0, 0, 2, 2, 0, 0, 2, 0, 2, 0, 2, 2, 2, 0, 0, 2, 2, 0, 2, 2, 0, 0, 2, 2, 0, 2, 0, 0, 0, 0, 2, 2, 0, 2, 0, 0, 0, 2, 2, 2, 0, 0, 0, 2, 0, 2, 0, 0, 0, 0, 0, 2, 0, 0, 2, 0, 0, 2, 0, 0, 2, 0, 2, 2, 2, 0, 0, 2, 0, 0, 0, 2, 2, 2, 2, 0, 2, 0, 0, 2, 2, 2, 2, 2, 2, 2, 2, 0, 0, 2, 0, 2, 2, 2, 0, 2, 2, 2, 0, 2, 2, 0, 0, 2, 2, 0, 2, 0, 0, 2, 0, 0, 2, 0, 2, 2, 2, 2, 2, 0, 0, 2, 2, 2, 2, 0, 2, 2, 2, 2]\n",
            "[0, 1, 1, 0, 1, 0, 0, 0, 1, 2, 1, 1, 0, 1, 1, 1, 0, 1, 1, 0, 1, 1, 1, 1, 1, 0, 1, 2, 1, 0, 0, 2, 1, 2, 1, 0, 0, 2, 0, 2, 0, 1, 0, 0, 1, 1, 1, 1, 2, 0, 0, 2, 1, 1, 1, 1, 2, 1, 0, 1, 1, 1, 1, 1, 0, 0, 1, 1, 1, 0, 1, 2, 1, 1, 1, 1, 1, 0, 2, 0, 1, 1, 1, 2, 0, 0, 1, 0, 1, 2, 2, 2, 0, 0, 2, 0, 1, 1, 0, 2, 1, 0, 1, 0, 0, 1, 2, 0, 0, 1, 1, 1, 0, 0, 0, 2, 0, 1, 1, 1, 0, 1, 1, 1, 1, 1, 1, 0, 0, 1, 0, 1, 0, 2, 1, 1, 1, 0, 1, 1, 1, 0, 1, 0, 2, 0, 2, 2, 0, 0, 1, 1, 1, 0, 1, 1, 0, 0, 1, 0, 1, 1, 1, 1, 1, 0, 1, 0, 0, 0, 1, 1, 0, 0, 1, 0, 0, 1, 0, 2, 0, 0, 0, 1, 1, 1, 1, 0, 1, 2, 1, 1, 0, 0, 2, 1, 0, 1, 1, 1, 2, 2, 1, 2, 0, 1, 0, 2, 2, 1, 0, 0, 0, 1, 0, 1, 0, 1, 0, 0, 2, 0, 0, 0, 2, 0, 0, 0, 0, 0, 1, 0, 2, 1, 1, 0, 0, 1, 0, 1, 2, 1, 2, 2, 1, 0, 1, 2, 0, 0, 1, 1, 2, 2, 1, 2, 2, 0, 1, 1, 1, 0, 0, 1, 1, 2, 0, 0, 2, 2, 0, 1, 2, 0, 0, 0, 0, 1, 1, 1, 2, 1, 2, 0, 1, 0, 0, 0, 1, 1, 2, 1, 0, 1, 0, 0, 0, 1, 1, 1, 1, 1, 1, 1, 2, 1, 2, 1, 1, 1, 0, 1, 2, 1, 0, 1, 0, 0, 1, 1, 1, 0, 1, 0, 2, 0, 0, 1, 1, 0, 0, 0, 1, 1, 1, 2, 0, 1, 0, 2, 2, 1, 2, 0, 1, 1, 1, 1, 0, 0, 0, 1, 0, 2, 0, 1, 0, 1, 0, 0, 1, 0, 0, 0, 0, 2, 0, 1, 2, 2, 1, 2, 2, 0, 0, 0, 0, 1, 0, 2, 1, 1, 0, 0, 1, 2, 0, 2, 1, 1, 0, 0, 0, 1, 0, 1, 2, 1, 1, 2, 1, 1, 2, 1, 0, 1, 2, 2, 0, 0, 0, 1, 0, 0, 0, 1, 2, 1, 2, 0, 1, 1, 1, 1, 0, 0, 0, 0, 2, 1, 0, 1, 0, 1, 2, 1, 0, 0, 1, 2, 0, 0, 1, 2, 1, 0, 0, 0, 0, 0, 2, 2, 1, 2, 0, 0, 1, 0, 0, 1, 0, 1, 1, 1, 1, 1, 1, 0, 1, 2, 0, 1, 0, 1, 1, 1, 0, 1, 0, 1, 0, 1, 1, 2, 0, 1, 2, 1, 0, 1, 0, 0, 1, 1, 0, 0, 0, 0, 2, 0, 1, 1, 1, 0, 2, 1, 1, 1, 2, 0, 1, 0, 0, 2, 0, 0, 0, 0, 0, 0, 2, 0, 1, 2, 2, 1, 1, 1, 2, 2, 1, 0, 1, 2, 1, 1, 0, 1, 1, 1, 2, 1, 0, 0, 1, 1, 0, 0, 2, 2, 0, 0, 1, 0, 0, 1, 1, 1, 1, 0, 2, 1, 1, 0, 1, 2, 1, 1, 1, 1, 0, 1, 0, 0, 0, 0, 2, 0, 1, 2, 2, 0, 1, 0, 0, 0, 0, 2, 0, 0, 1, 0, 1, 1, 0, 0, 1, 1, 0, 1, 0, 0, 0, 0, 1, 1, 1, 1, 0, 1, 1, 1, 1, 0, 1, 1, 0, 0, 1, 1, 0, 1, 2, 0, 1, 1, 2, 1, 1, 0, 0, 1, 1, 0, 1, 1, 1, 1, 0, 1, 1, 0, 0, 2, 1, 2, 0, 1, 1, 1, 0, 0, 1, 2, 0, 0, 0, 2, 0, 0, 0, 0, 1, 0, 0, 0, 1, 0, 0, 0, 1, 1, 2, 1, 0, 0, 0, 1, 2, 1, 0, 0, 1, 2, 0, 0, 0, 0, 1, 1, 2, 0, 1, 2, 0, 1, 0, 0, 2, 1, 0, 1, 1, 1, 1, 2, 0, 1, 0, 0, 0, 2, 1, 1, 1, 1, 1, 0, 0, 1, 2, 1, 0, 1, 1, 2, 0, 0, 0, 2, 1, 0, 0, 1, 0, 2, 1, 1, 1, 1, 0, 0, 0, 2, 2, 2, 1, 0, 1, 1, 1, 1, 0, 2, 2, 0, 2, 0, 1, 0, 1, 1, 2, 2, 2, 1, 0, 2, 0, 0, 0, 2, 2, 1, 1, 2, 1, 1, 0, 1, 1, 0, 1, 2, 1, 1, 2, 0, 1, 0, 0, 0, 0, 0, 2, 1, 0, 0, 1, 0, 0, 0, 1, 0, 2, 1, 1, 1, 0, 1, 1, 2, 0, 0, 0, 0, 0, 1, 1, 1, 1, 1, 0, 0, 1, 0, 1, 0, 0, 1, 0, 1, 1, 0, 0, 2, 1, 1, 1, 0, 0, 1, 2, 0, 1, 1, 1, 1, 1, 0, 1, 0, 0, 2, 2, 0, 0, 0, 2, 2, 1, 1, 0, 0, 1, 1, 0, 1, 0, 1, 2, 0, 0, 1, 1, 0, 0, 0, 2, 0, 0, 0, 1, 1, 1, 1, 2, 1, 0, 0, 0, 1, 1, 1, 0, 1, 1, 1, 1, 1, 0, 2, 0, 2, 0, 0, 1, 1, 1, 0, 0, 2, 1, 2, 2, 0, 0, 0, 2, 1, 1, 1, 1, 1, 1, 1, 0, 2, 1, 1, 1, 1, 2, 2, 1, 2, 1, 0, 0, 0, 1, 1, 0, 0, 1, 0, 0, 0, 0, 0, 1, 0, 0, 0, 1, 0, 1, 1, 0, 0, 0, 1, 1, 1, 0, 1, 2, 2, 0, 1, 0, 2, 1, 1, 1, 1, 0, 1, 0, 1, 0, 2, 0, 0, 0, 0, 1, 1, 0, 1, 0, 1, 0, 1, 1, 0, 0, 2, 0, 0, 0, 1, 2, 1, 1, 0, 1, 0, 2, 2, 0, 2, 1, 1, 0, 0, 0, 0, 2, 1, 1, 0, 1, 1, 0, 2, 1, 2, 1, 1, 0, 0, 1, 1, 2, 0, 0, 0, 1, 1, 1, 2, 2, 0, 2, 0, 0, 1, 1, 0, 0, 2, 2, 0, 0, 2, 1, 0, 1, 1, 0, 1, 1, 1, 1, 2, 2, 1, 1, 2, 0, 1, 0, 1, 1, 0, 2, 1, 1, 1, 0, 0, 1, 0, 0, 1, 0, 0, 1, 1, 2, 2, 2, 0, 0, 1, 0, 0, 0, 1, 0, 1, 0, 0, 2, 1, 1, 1, 0, 2, 0, 1, 2, 2, 0, 0, 1, 2, 0, 1, 0, 2, 1, 0, 2, 0, 2, 0, 2, 1, 2, 0, 1, 2, 2, 1, 1, 2, 1, 1, 2, 2, 2, 1, 2, 0, 2, 1, 1, 0, 2, 1, 1, 2, 1, 0, 1, 2, 1, 0, 2, 1, 1, 0, 1, 0, 2, 2, 1, 1, 1, 2, 0, 1, 0, 0, 0, 0, 2, 0, 0, 0, 2, 1, 1, 0, 1, 1, 2, 0, 2, 2, 2, 1, 1, 2, 1, 2, 2, 2, 2, 2, 0, 0, 2, 0, 1, 1, 1, 2, 0, 1, 1, 1, 0, 0, 0, 2, 2, 2, 1, 0, 2, 1, 0, 0, 0, 1, 1, 2, 1, 1, 0, 2, 1, 1, 1, 0, 0, 0, 1, 2, 0, 2, 1, 0, 0, 2, 2, 1, 1, 0, 2, 0, 0, 1, 2, 1, 1, 0, 2, 0, 0, 2, 2, 1, 2, 1, 1, 2, 1, 2, 0, 0, 2, 1, 1, 0, 2, 1, 2, 2, 2, 0, 0, 0, 1, 2, 1, 2, 0, 1, 1, 0, 2, 1, 0, 2, 2, 2, 0, 2, 1, 1, 1, 0, 1, 1, 2, 1, 2, 0, 0, 0, 2, 0, 0, 2, 1, 1, 1, 0, 2, 1, 0, 2, 1, 0, 1, 0, 0, 1, 0, 0, 2, 2, 1, 0, 0, 2, 2, 2, 2, 2, 2, 0, 0, 2, 2, 1, 1, 1, 2, 1, 2]\n",
            "Accuracy: 0.5822878228782288\n",
            "F1 Score: 0.5208235064441721\n",
            "Precision: 0.5233151630223966\n",
            "Recall: 0.5542229963946609\n"
          ]
        }
      ]
    },
    {
      "cell_type": "markdown",
      "source": [
        "# Task 3"
      ],
      "metadata": {
        "id": "Rh7l0G99o7fM"
      }
    },
    {
      "cell_type": "code",
      "source": [
        "import json\n",
        "import torch\n",
        "embeddings = []\n",
        "labels = []\n",
        "\n",
        "for i in range(1, 5):\n",
        "    with open(f'/content/drive/MyDrive/CSCI544-Project/data/class_wise_embeddings/train_embeddings/bypass_train_file_{i}.json', 'r') as f:\n",
        "        for line in f:\n",
        "            data = json.loads(line)\n",
        "            embeddings.append(data['embeddings'][0])\n",
        "            labels.append(data['label'])\n",
        "\n",
        "# Convert lists to tensors\n",
        "embeddings0 = torch.tensor(embeddings)\n",
        "labels0 = torch.tensor(labels)\n",
        "\n",
        "print(embeddings0.size())  # This will show the shape of the embeddings tensor\n",
        "print(labels0.size())     # This will show the shape of the labels tensor\n",
        "\n",
        "model.add_network()\n",
        "model.train(2, embeddings=embeddings0, labels=labels0)\n",
        "\n",
        "embeddings = []\n",
        "labels = []\n",
        "\n",
        "with open(f'/content/drive/MyDrive/CSCI544-Project/data/class_wise_embeddings/test_embeddings/dos_test_file.json', 'r') as f:\n",
        "    for line in f:\n",
        "        data = json.loads(line)\n",
        "        embeddings.append(data['embeddings'][0])\n",
        "        labels.append([data['label'], 0, 0])\n",
        "\n",
        "with open(f'/content/drive/MyDrive/CSCI544-Project/data/class_wise_embeddings/test_embeddings/+info_test_file.json', 'r') as f:\n",
        "    for line in f:\n",
        "        data = json.loads(line)\n",
        "        embeddings.append(data['embeddings'][0])\n",
        "        labels.append([0, data['label'], 0])\n",
        "\n",
        "with open(f'/content/drive/MyDrive/CSCI544-Project/data/class_wise_embeddings/test_embeddings/bypass_test_file.json', 'r') as f:\n",
        "    for line in f:\n",
        "        data = json.loads(line)\n",
        "        embeddings.append(data['embeddings'][0])\n",
        "        labels.append([0, 0, data['label']])\n",
        "\n",
        "# Convert lists to tensors\n",
        "embeddings0 = torch.tensor(embeddings)\n",
        "labels0 = torch.tensor(labels)\n",
        "\n",
        "model.test(embeddings0, labels0, 2)"
      ],
      "metadata": {
        "colab": {
          "base_uri": "https://localhost:8080/"
        },
        "id": "63VFkWjJOdx6",
        "outputId": "f2446503-eaa1-4010-db21-1ac19d715f81"
      },
      "execution_count": 122,
      "outputs": [
        {
          "output_type": "stream",
          "name": "stdout",
          "text": [
            "torch.Size([709, 256])\n",
            "torch.Size([709])\n",
            "Epoch 10/50, Loss: 0.4395773410797119\n",
            "Epoch 20/50, Loss: 0.024652214720845222\n",
            "Epoch 30/50, Loss: 0.01570112816989422\n",
            "Epoch 40/50, Loss: 0.00047700299182906747\n",
            "Epoch 50/50, Loss: 0.0005028137238696218\n",
            "[0, 0, 1, 0, 1, 0, 1, 1, 1, 0, 1, 1, 1, 1, 1, 1, 0, 0, 1, 0, 1, 0, 0, 1, 1, 0, 1, 1, 0, 1, 1, 1, 1, 1, 1, 1, 0, 1, 0, 1, 0, 0, 0, 0, 1, 1, 1, 1, 0, 1, 0, 1, 1, 0, 0, 0, 0, 1, 0, 1, 1, 1, 1, 1, 0, 1, 1, 1, 0, 1, 1, 0, 0, 1, 1, 0, 1, 0, 1, 0, 1, 1, 0, 1, 0, 0, 0, 0, 1, 0, 0, 1, 0, 1, 0, 0, 0, 1, 0, 1, 1, 1, 1, 0, 0, 1, 0, 1, 0, 1, 0, 1, 1, 0, 1, 1, 0, 1, 1, 1, 0, 1, 1, 1, 1, 0, 1, 0, 0, 0, 0, 1, 0, 1, 1, 1, 1, 0, 0, 1, 1, 0, 1, 1, 1, 1, 0, 0, 0, 1, 1, 1, 1, 1, 1, 1, 0, 1, 1, 0, 1, 1, 1, 0, 1, 1, 1, 0, 0, 1, 1, 0, 0, 1, 1, 0, 0, 1, 0, 1, 0, 0, 0, 1, 1, 1, 0, 0, 0, 1, 0, 0, 0, 0, 0, 1, 1, 1, 1, 1, 0, 1, 1, 1, 0, 1, 1, 0, 1, 1, 1, 0, 0, 0, 0, 1, 0, 1, 0, 1, 1, 1, 1, 1, 1, 0, 0, 0, 1, 0, 1, 1, 1, 0, 1, 0, 0, 1, 0, 1, 1, 1, 1, 0, 1, 0, 1, 0, 1, 0, 0, 0, 1, 1, 1, 1, 0, 0, 1, 1, 1, 0, 0, 1, 0, 0, 0, 0, 1, 1, 0, 1, 1, 1, 1, 0, 0, 1, 1, 1, 1, 1, 1, 0, 0, 0, 0, 0, 1, 1, 1, 0, 1, 0, 0, 0, 1, 0, 1, 1, 1, 1, 1, 0, 0, 0, 1, 1, 1, 0, 1, 1, 0, 1, 1, 1, 1, 1, 1, 1, 1, 1, 0, 0, 0, 0, 0, 0, 1, 1, 0, 0, 1, 0, 1, 0, 0, 1, 0, 1, 0, 1, 0, 1, 1, 0, 0, 1, 1, 1, 0, 1, 0, 1, 0, 1, 0, 0, 1, 1, 1, 1, 1, 0, 0, 0, 1, 0, 0, 1, 1, 1, 0, 0, 0, 0, 0, 1, 0, 1, 1, 1, 0, 0, 1, 1, 0, 0, 0, 0, 0, 1, 0, 0, 1, 1, 1, 1, 1, 0, 1, 0, 1, 1, 0, 1, 1, 0, 0, 0, 1, 1, 0, 0, 0, 1, 1, 1, 0, 0, 1, 1, 1, 1, 0, 0, 1, 0, 1, 0, 0, 1, 0, 1, 1, 1, 1, 1, 0, 1, 0, 0, 0, 0, 1, 1, 0, 1, 0, 0, 0, 0, 1, 0, 0, 0, 1, 1, 1, 0, 0, 1, 1, 1, 1, 1, 1, 0, 1, 0, 0, 1, 1, 1, 0, 0, 0, 1, 0, 1, 1, 1, 1, 0, 0, 1, 1, 1, 1, 1, 0, 1, 1, 0, 0, 1, 0, 0, 0, 0, 0, 0, 0, 0, 1, 1, 1, 0, 0, 0, 1, 1, 0, 1, 0, 0, 0, 0, 0, 0, 1, 1, 0, 1, 1, 0, 1, 1, 0, 1, 1, 1, 1, 1, 1, 1, 0, 0, 0, 1, 1, 0, 0, 0, 0, 0, 0, 0, 1, 0, 1, 0, 1, 0, 0, 1, 0, 1, 1, 0, 0, 1, 0, 0, 1, 0, 1, 1, 0, 0, 1, 1, 0, 0, 0, 0, 1, 1, 0, 0, 1, 1, 1, 1, 1, 1, 0, 1, 1, 1, 0, 0, 1, 0, 0, 0, 1, 1, 0, 1, 0, 0, 1, 0, 1, 1, 1, 1, 1, 1, 0, 1, 1, 0, 1, 1, 0, 0, 1, 1, 0, 0, 1, 0, 0, 1, 0, 0, 0, 0, 1, 1, 1, 0, 1, 1, 0, 1, 0, 1, 1, 0, 0, 1, 0, 1, 1, 0, 0, 1, 0, 0, 1, 0, 0, 1, 0, 0, 0, 1, 1, 0, 1, 0, 1, 1, 1, 0, 0, 1, 1, 1, 1, 1, 0, 0, 0, 0, 1, 1, 1, 0, 0, 0, 1, 0, 0, 0, 0, 1, 0, 1, 1, 1, 0, 1, 0, 0, 1, 1, 0, 1, 1, 0, 1, 0, 0, 0, 0, 0, 0, 1, 1, 1, 1, 1, 0, 1, 0, 1, 1, 0, 1, 1, 1, 1, 0, 0, 0, 0, 1, 0, 0, 1, 0, 1, 1, 1, 1, 0, 0, 0, 0, 0, 0, 0, 1, 1, 1, 0, 1, 0, 0, 0, 0, 0, 0, 0, 0, 0, 1, 1, 1, 1, 0, 1, 0, 1, 1, 0, 1, 0, 0, 0, 0, 1, 1, 0, 0, 1, 0, 0, 1, 0, 1, 1, 0, 0, 1, 0, 0, 1, 1, 0, 0, 1, 1, 1, 1, 0, 1, 1, 0, 0, 1, 0, 1, 1, 0, 1, 1, 0, 1, 0, 0, 1, 0, 1, 0, 1, 1, 1, 0, 0, 0, 0, 1, 1, 0, 1, 0, 0, 1, 0, 0, 0, 0, 0, 1, 0, 0, 1, 0, 0, 1, 1, 1, 1, 1, 0, 1, 1, 0, 1, 1, 1, 0, 0, 0, 1, 1, 1, 0, 1, 1, 0, 0, 1, 0, 0, 0, 0, 1, 1, 1, 0, 1, 0, 0, 0, 0, 0, 1, 0, 1, 1, 1, 1, 0, 0, 0, 1, 1, 1, 0, 1, 1, 1, 1, 1, 0, 0, 0, 0, 1, 0, 1, 1, 1, 0, 0, 0, 1, 0, 1, 0, 0, 0, 0, 1, 1, 1, 1, 1, 1, 1, 0, 1, 1, 0, 1, 1, 1, 0, 1, 0, 1, 1, 0, 0, 1, 1, 0, 0, 1, 0, 0, 0, 1, 0, 1, 0, 1, 0, 1, 0, 1, 1, 0, 0, 0, 1, 1, 1, 0, 1, 1, 0, 0, 1, 0, 1, 0, 1, 0, 0, 0, 1, 0, 1, 0, 0, 0, 0, 0, 0, 1, 1, 1, 1, 0, 1, 0, 0, 1, 0, 0, 1, 0, 1, 0, 1, 0, 0, 1, 0, 1, 1, 0, 0, 1, 0, 0, 0, 1, 1, 0, 1, 1, 0, 1, 0, 1, 1, 0, 1, 0, 0, 1, 1, 0, 0, 0, 0, 1, 0, 0, 0, 1, 1, 0, 1, 0, 0, 0, 0, 0, 1, 1, 0, 0, 1, 0, 0, 0, 0, 1, 0, 1, 1, 0, 1, 1, 0, 0, 1, 0, 1, 1, 1, 0, 1, 1, 0, 0, 0, 0, 1, 1, 0, 0, 0, 1, 0, 0, 1, 0, 0, 0, 0, 1, 1, 0, 0, 0, 0, 0, 1, 1, 1, 1, 1, 1, 0, 0, 1, 0, 1, 0, 2, 2, 2, 2, 0, 0, 0, 2, 0, 0, 0, 2, 2, 2, 0, 2, 0, 2, 0, 0, 2, 2, 0, 2, 0, 2, 2, 0, 2, 0, 2, 0, 2, 2, 0, 2, 0, 0, 2, 2, 0, 2, 2, 0, 0, 2, 0, 2, 2, 2, 0, 2, 0, 0, 0, 0, 0, 2, 2, 0, 2, 0, 2, 0, 2, 0, 2, 0, 0, 0, 0, 0, 0, 0, 2, 2, 0, 0, 2, 2, 2, 2, 2, 0, 2, 0, 2, 0, 2, 0, 2, 0, 2, 2, 0, 2, 0, 0, 0, 0, 2, 0, 2, 0, 2, 0, 0, 0, 0, 2, 2, 0, 2, 2, 2, 0, 0, 0, 2, 2, 0, 0, 2, 0, 2, 0, 2, 2, 2, 0, 0, 2, 2, 0, 2, 2, 0, 0, 2, 2, 0, 2, 0, 0, 0, 0, 2, 2, 0, 2, 0, 0, 0, 2, 2, 2, 0, 0, 0, 2, 0, 2, 0, 0, 0, 0, 0, 2, 0, 0, 2, 0, 0, 2, 0, 0, 2, 0, 2, 2, 2, 0, 0, 2, 0, 0, 0, 2, 2, 2, 2, 0, 2, 0, 0, 2, 2, 2, 2, 2, 2, 2, 2, 0, 0, 2, 0, 2, 2, 2, 0, 2, 2, 2, 0, 2, 2, 0, 0, 2, 2, 0, 2, 0, 0, 2, 0, 0, 2, 0, 2, 2, 2, 2, 2, 0, 0, 2, 2, 2, 2, 0, 2, 2, 2, 2, 3, 0, 0, 3, 3, 0, 0, 3, 3, 3, 3, 0, 0, 0, 3, 3, 3, 0, 3, 0, 3, 3, 0, 0, 3, 3, 0, 3, 0, 0, 3, 0, 3, 3, 0, 0, 0, 3, 3, 3, 3, 0, 0, 0, 3, 0, 0, 3, 0, 0, 3, 0, 3, 3, 0, 0, 3, 0, 3, 0, 3, 0, 0, 0, 3, 3, 0, 3, 0, 3, 0, 0, 0, 0, 0, 0, 0, 3, 3, 3, 3, 0, 3, 0, 0, 3, 0, 3, 0, 0, 3, 3, 0, 0, 0, 0, 0, 0, 0, 0, 0, 0, 3, 3, 3, 0, 3, 3, 0, 3, 0, 0, 3, 0, 3, 3, 0, 3, 3, 3, 3, 0, 3, 0, 3, 3, 3, 3, 3, 3, 3, 0, 0, 0, 0, 0, 0, 3, 3, 3, 3, 3, 3, 3, 0, 3, 3, 0, 3, 0, 3, 3, 0, 0, 0, 0, 0, 0, 3, 3, 3, 3, 0, 3, 3, 0, 0, 3, 3, 3, 3, 0, 0, 3, 3, 0, 0]\n",
            "[0, 3, 1, 0, 3, 0, 3, 0, 1, 2, 1, 1, 3, 1, 3, 1, 0, 1, 1, 3, 1, 1, 1, 1, 1, 0, 1, 2, 1, 0, 0, 3, 1, 3, 1, 0, 0, 2, 3, 3, 0, 1, 0, 0, 1, 1, 1, 1, 2, 0, 0, 2, 1, 1, 3, 1, 3, 1, 0, 1, 1, 1, 1, 1, 0, 0, 1, 1, 1, 0, 3, 2, 1, 3, 1, 3, 3, 0, 3, 0, 1, 3, 1, 3, 0, 0, 1, 0, 3, 2, 2, 2, 0, 0, 2, 0, 3, 1, 3, 3, 3, 0, 3, 0, 0, 1, 2, 3, 0, 1, 3, 3, 3, 0, 0, 2, 0, 1, 1, 1, 0, 1, 1, 1, 3, 3, 1, 0, 0, 1, 0, 3, 0, 2, 3, 3, 1, 0, 1, 1, 1, 0, 1, 0, 3, 0, 2, 3, 0, 0, 3, 1, 1, 0, 1, 1, 3, 3, 1, 0, 1, 1, 1, 1, 1, 0, 1, 3, 0, 0, 1, 1, 0, 3, 1, 0, 0, 1, 0, 2, 0, 0, 0, 1, 1, 1, 1, 0, 1, 2, 1, 1, 0, 0, 3, 1, 0, 1, 1, 1, 2, 2, 1, 2, 0, 1, 3, 2, 3, 1, 0, 0, 0, 1, 0, 3, 0, 1, 3, 0, 2, 3, 3, 0, 3, 3, 0, 0, 0, 0, 1, 0, 3, 1, 1, 0, 0, 3, 0, 3, 3, 1, 2, 2, 1, 0, 1, 2, 0, 3, 1, 3, 3, 3, 1, 2, 3, 0, 1, 1, 1, 0, 0, 1, 1, 2, 3, 0, 3, 2, 0, 1, 3, 0, 0, 0, 0, 1, 1, 1, 3, 1, 2, 0, 1, 0, 0, 0, 1, 1, 2, 1, 3, 1, 0, 0, 0, 3, 1, 1, 1, 3, 1, 1, 2, 1, 3, 1, 3, 1, 3, 3, 3, 1, 0, 1, 0, 3, 1, 3, 1, 0, 1, 0, 2, 0, 0, 1, 3, 3, 0, 0, 1, 1, 1, 3, 0, 1, 0, 2, 3, 1, 3, 3, 1, 1, 1, 3, 0, 0, 0, 3, 0, 2, 3, 1, 0, 1, 3, 0, 1, 0, 3, 0, 3, 2, 0, 1, 2, 2, 1, 3, 2, 0, 0, 0, 0, 1, 0, 2, 3, 1, 3, 0, 1, 3, 0, 2, 1, 3, 0, 3, 0, 3, 0, 1, 3, 3, 3, 2, 1, 1, 2, 1, 0, 3, 3, 3, 0, 0, 0, 1, 0, 0, 0, 1, 2, 1, 2, 3, 1, 3, 3, 1, 3, 3, 0, 3, 3, 1, 0, 1, 0, 1, 2, 1, 0, 0, 1, 2, 0, 0, 1, 2, 1, 3, 0, 3, 0, 0, 2, 2, 1, 2, 0, 0, 1, 0, 3, 1, 3, 1, 1, 1, 1, 1, 1, 0, 1, 2, 0, 1, 0, 1, 3, 1, 0, 1, 3, 3, 3, 1, 1, 2, 0, 1, 2, 1, 0, 3, 0, 0, 1, 1, 0, 0, 0, 0, 3, 0, 1, 1, 3, 0, 3, 1, 1, 1, 2, 0, 1, 3, 0, 3, 0, 3, 0, 0, 0, 0, 2, 0, 1, 3, 2, 3, 1, 1, 2, 3, 1, 3, 1, 3, 1, 3, 0, 1, 1, 1, 3, 1, 3, 3, 1, 3, 0, 0, 3, 2, 3, 0, 1, 0, 0, 3, 1, 1, 3, 0, 2, 1, 1, 0, 1, 2, 1, 1, 1, 1, 0, 1, 0, 0, 0, 0, 2, 0, 3, 2, 2, 3, 1, 0, 3, 0, 3, 2, 0, 0, 1, 0, 1, 1, 0, 0, 3, 1, 0, 1, 0, 3, 0, 0, 1, 1, 1, 1, 3, 3, 3, 1, 1, 0, 1, 3, 0, 0, 1, 1, 0, 3, 2, 0, 3, 1, 3, 1, 1, 0, 0, 1, 1, 0, 1, 1, 1, 1, 0, 1, 1, 0, 0, 3, 1, 2, 0, 1, 1, 1, 0, 0, 1, 2, 0, 3, 0, 2, 0, 3, 0, 0, 1, 0, 0, 0, 3, 0, 3, 0, 1, 1, 2, 3, 0, 3, 0, 1, 3, 3, 0, 0, 1, 3, 3, 0, 3, 3, 3, 1, 2, 0, 1, 2, 0, 1, 0, 0, 2, 1, 3, 1, 1, 1, 1, 2, 0, 1, 0, 3, 0, 2, 1, 1, 1, 1, 1, 0, 0, 1, 2, 1, 0, 1, 3, 3, 0, 0, 3, 2, 1, 0, 0, 3, 0, 2, 1, 3, 3, 1, 0, 0, 0, 2, 3, 2, 1, 0, 3, 1, 3, 1, 0, 3, 3, 0, 2, 0, 1, 0, 1, 1, 2, 2, 2, 1, 0, 2, 3, 0, 0, 2, 2, 1, 1, 2, 1, 1, 3, 1, 1, 0, 1, 2, 1, 1, 2, 0, 1, 3, 3, 0, 0, 0, 2, 1, 3, 0, 1, 0, 0, 0, 3, 0, 3, 3, 1, 1, 3, 1, 1, 3, 0, 0, 0, 0, 0, 1, 1, 1, 3, 1, 0, 0, 1, 0, 1, 0, 3, 3, 0, 1, 3, 0, 0, 3, 1, 1, 1, 0, 0, 1, 2, 0, 1, 1, 1, 1, 1, 0, 1, 0, 0, 2, 2, 0, 0, 0, 2, 3, 1, 1, 0, 0, 1, 1, 0, 3, 0, 1, 3, 0, 3, 1, 1, 0, 0, 0, 2, 3, 0, 0, 1, 3, 3, 1, 2, 1, 0, 0, 0, 3, 1, 1, 0, 1, 1, 1, 1, 3, 0, 2, 0, 3, 0, 0, 1, 1, 1, 3, 0, 2, 1, 2, 3, 3, 3, 3, 3, 3, 1, 1, 1, 3, 1, 1, 0, 3, 1, 1, 1, 1, 2, 2, 1, 2, 3, 3, 3, 0, 1, 1, 0, 0, 1, 3, 0, 3, 0, 3, 1, 3, 0, 0, 3, 0, 1, 1, 0, 0, 0, 1, 1, 1, 0, 1, 2, 2, 0, 1, 3, 2, 1, 1, 1, 3, 0, 1, 3, 1, 0, 2, 0, 0, 0, 3, 1, 1, 3, 1, 0, 1, 0, 1, 1, 0, 0, 3, 0, 0, 0, 3, 2, 1, 1, 3, 1, 3, 3, 2, 0, 2, 1, 1, 0, 0, 0, 3, 2, 1, 1, 3, 1, 3, 0, 2, 3, 3, 1, 1, 0, 0, 1, 1, 2, 0, 0, 0, 1, 1, 1, 3, 2, 0, 3, 0, 0, 1, 1, 0, 0, 3, 2, 0, 0, 2, 1, 0, 1, 1, 3, 1, 1, 1, 1, 2, 3, 1, 1, 2, 0, 1, 0, 1, 3, 3, 2, 1, 1, 1, 0, 0, 1, 0, 0, 3, 0, 0, 1, 3, 2, 2, 2, 0, 0, 1, 0, 3, 0, 1, 0, 1, 0, 0, 2, 1, 1, 1, 0, 2, 0, 3, 2, 2, 0, 3, 1, 3, 0, 1, 0, 3, 3, 0, 2, 3, 2, 0, 2, 3, 2, 3, 3, 2, 2, 1, 1, 3, 1, 1, 2, 2, 3, 1, 2, 3, 2, 1, 1, 0, 2, 3, 1, 3, 3, 0, 3, 3, 1, 0, 3, 1, 1, 0, 1, 3, 2, 2, 1, 1, 3, 2, 0, 1, 0, 3, 0, 0, 3, 0, 0, 0, 2, 3, 3, 3, 1, 1, 2, 0, 3, 2, 2, 1, 1, 2, 1, 2, 2, 2, 2, 3, 0, 3, 3, 0, 1, 1, 3, 2, 0, 3, 1, 3, 0, 3, 0, 2, 2, 3, 1, 3, 3, 3, 0, 0, 0, 1, 1, 3, 1, 3, 0, 3, 1, 3, 1, 0, 3, 0, 1, 3, 0, 2, 1, 0, 0, 2, 2, 3, 1, 0, 2, 3, 0, 3, 2, 3, 1, 0, 2, 3, 3, 2, 2, 1, 2, 3, 1, 2, 1, 2, 0, 0, 3, 1, 1, 3, 2, 1, 3, 2, 3, 0, 0, 0, 1, 2, 3, 2, 0, 3, 3, 3, 3, 3, 0, 2, 2, 3, 0, 2, 3, 1, 1, 0, 1, 3, 3, 3, 2, 0, 0, 0, 3, 0, 3, 3, 1, 1, 1, 0, 2, 1, 0, 2, 1, 0, 3, 3, 0, 1, 0, 0, 3, 3, 1, 0, 0, 2, 3, 2, 2, 2, 2, 0, 3, 2, 3, 1, 1, 1, 2, 1, 2, 0, 0, 2, 1, 2, 2, 0, 1, 2, 3, 1, 0, 3, 0, 1, 1, 3, 3, 1, 1, 2, 3, 0, 0, 1, 3, 1, 0, 0, 0, 3, 3, 2, 3, 0, 0, 1, 3, 0, 3, 3, 1, 0, 0, 2, 0, 3, 3, 0, 0, 1, 3, 0, 3, 0, 3, 3, 1, 3, 1, 3, 1, 0, 0, 3, 2, 0, 1, 3, 1, 1, 2, 3, 0, 2, 1, 3, 3, 1, 1, 3, 1, 1, 3, 0, 3, 3, 1, 2, 3, 0, 3, 1, 2, 0, 0, 3, 1, 0, 0, 0, 1, 3, 3, 2, 2, 3, 3, 3, 3, 1, 1, 3, 1, 1, 0, 1, 3, 3, 3, 3, 0, 3, 0, 3, 3, 3, 3, 0, 3, 3, 2, 0, 0, 0, 0, 3, 3, 2, 3, 0, 2, 1, 3, 0, 0, 3, 3, 3, 3, 3, 3, 0, 0, 3, 1, 3, 1, 3, 0, 0, 3, 0, 3, 2, 0, 2, 3, 1, 3, 3, 3, 3, 3, 3, 1, 3]\n",
            "Accuracy: 0.4765013054830287\n",
            "F1 Score: 0.3969193355789687\n",
            "Precision: 0.4223888022814729\n",
            "Recall: 0.4660062495534315\n"
          ]
        }
      ]
    },
    {
      "cell_type": "markdown",
      "source": [
        "# Task 4"
      ],
      "metadata": {
        "id": "zV8eJcNNqkfU"
      }
    },
    {
      "cell_type": "code",
      "source": [
        "import json\n",
        "import torch\n",
        "embeddings = []\n",
        "labels = []\n",
        "\n",
        "for i in range(1, 5):\n",
        "    with open(f'/content/drive/MyDrive/CSCI544-Project/data/class_wise_embeddings/train_embeddings/+priv_train_file_{i}.json', 'r') as f:\n",
        "        for line in f:\n",
        "            data = json.loads(line)\n",
        "            embeddings.append(data['embeddings'][0])\n",
        "            labels.append(data['label'])\n",
        "\n",
        "# Convert lists to tensors\n",
        "embeddings0 = torch.tensor(embeddings)\n",
        "labels0 = torch.tensor(labels)\n",
        "\n",
        "print(embeddings0.size())  # This will show the shape of the embeddings tensor\n",
        "print(labels0.size())     # This will show the shape of the labels tensor\n",
        "\n",
        "model.add_network()\n",
        "model.train(3, embeddings=embeddings0, labels=labels0)\n",
        "\n",
        "embeddings = []\n",
        "labels = []\n",
        "\n",
        "with open(f'/content/drive/MyDrive/CSCI544-Project/data/class_wise_embeddings/test_embeddings/dos_test_file.json', 'r') as f:\n",
        "    for line in f:\n",
        "        data = json.loads(line)\n",
        "        embeddings.append(data['embeddings'][0])\n",
        "        labels.append([data['label'], 0, 0, 0])\n",
        "\n",
        "with open(f'/content/drive/MyDrive/CSCI544-Project/data/class_wise_embeddings/test_embeddings/+info_test_file.json', 'r') as f:\n",
        "    for line in f:\n",
        "        data = json.loads(line)\n",
        "        embeddings.append(data['embeddings'][0])\n",
        "        labels.append([0, data['label'], 0, 0])\n",
        "\n",
        "with open(f'/content/drive/MyDrive/CSCI544-Project/data/class_wise_embeddings/test_embeddings/bypass_test_file.json', 'r') as f:\n",
        "    for line in f:\n",
        "        data = json.loads(line)\n",
        "        embeddings.append(data['embeddings'][0])\n",
        "        labels.append([0, 0, data['label'], 0])\n",
        "\n",
        "with open(f'/content/drive/MyDrive/CSCI544-Project/data/class_wise_embeddings/test_embeddings/+priv_test_file.json', 'r') as f:\n",
        "    for line in f:\n",
        "        data = json.loads(line)\n",
        "        embeddings.append(data['embeddings'][0])\n",
        "        labels.append([0, 0, 0, data['label']])\n",
        "\n",
        "# Convert lists to tensors\n",
        "embeddings0 = torch.tensor(embeddings)\n",
        "labels0 = torch.tensor(labels)\n",
        "\n",
        "model.test(embeddings0, labels0, 3)"
      ],
      "metadata": {
        "colab": {
          "base_uri": "https://localhost:8080/"
        },
        "id": "OBn2VssZqkqg",
        "outputId": "3aabcdc1-dbda-4fd2-bfcd-54446f77f9fa"
      },
      "execution_count": 123,
      "outputs": [
        {
          "output_type": "stream",
          "name": "stdout",
          "text": [
            "torch.Size([638, 256])\n",
            "torch.Size([638])\n",
            "Epoch 10/50, Loss: 0.4209142327308655\n",
            "Epoch 20/50, Loss: 0.05126958712935448\n",
            "Epoch 30/50, Loss: 0.0052050333470106125\n",
            "Epoch 40/50, Loss: 0.002332912525162101\n",
            "Epoch 50/50, Loss: 0.002376549644395709\n",
            "[0, 0, 1, 0, 1, 0, 1, 1, 1, 0, 1, 1, 1, 1, 1, 1, 0, 0, 1, 0, 1, 0, 0, 1, 1, 0, 1, 1, 0, 1, 1, 1, 1, 1, 1, 1, 0, 1, 0, 1, 0, 0, 0, 0, 1, 1, 1, 1, 0, 1, 0, 1, 1, 0, 0, 0, 0, 1, 0, 1, 1, 1, 1, 1, 0, 1, 1, 1, 0, 1, 1, 0, 0, 1, 1, 0, 1, 0, 1, 0, 1, 1, 0, 1, 0, 0, 0, 0, 1, 0, 0, 1, 0, 1, 0, 0, 0, 1, 0, 1, 1, 1, 1, 0, 0, 1, 0, 1, 0, 1, 0, 1, 1, 0, 1, 1, 0, 1, 1, 1, 0, 1, 1, 1, 1, 0, 1, 0, 0, 0, 0, 1, 0, 1, 1, 1, 1, 0, 0, 1, 1, 0, 1, 1, 1, 1, 0, 0, 0, 1, 1, 1, 1, 1, 1, 1, 0, 1, 1, 0, 1, 1, 1, 0, 1, 1, 1, 0, 0, 1, 1, 0, 0, 1, 1, 0, 0, 1, 0, 1, 0, 0, 0, 1, 1, 1, 0, 0, 0, 1, 0, 0, 0, 0, 0, 1, 1, 1, 1, 1, 0, 1, 1, 1, 0, 1, 1, 0, 1, 1, 1, 0, 0, 0, 0, 1, 0, 1, 0, 1, 1, 1, 1, 1, 1, 0, 0, 0, 1, 0, 1, 1, 1, 0, 1, 0, 0, 1, 0, 1, 1, 1, 1, 0, 1, 0, 1, 0, 1, 0, 0, 0, 1, 1, 1, 1, 0, 0, 1, 1, 1, 0, 0, 1, 0, 0, 0, 0, 1, 1, 0, 1, 1, 1, 1, 0, 0, 1, 1, 1, 1, 1, 1, 0, 0, 0, 0, 0, 1, 1, 1, 0, 1, 0, 0, 0, 1, 0, 1, 1, 1, 1, 1, 0, 0, 0, 1, 1, 1, 0, 1, 1, 0, 1, 1, 1, 1, 1, 1, 1, 1, 1, 0, 0, 0, 0, 0, 0, 1, 1, 0, 0, 1, 0, 1, 0, 0, 1, 0, 1, 0, 1, 0, 1, 1, 0, 0, 1, 1, 1, 0, 1, 0, 1, 0, 1, 0, 0, 1, 1, 1, 1, 1, 0, 0, 0, 1, 0, 0, 1, 1, 1, 0, 0, 0, 0, 0, 1, 0, 1, 1, 1, 0, 0, 1, 1, 0, 0, 0, 0, 0, 1, 0, 0, 1, 1, 1, 1, 1, 0, 1, 0, 1, 1, 0, 1, 1, 0, 0, 0, 1, 1, 0, 0, 0, 1, 1, 1, 0, 0, 1, 1, 1, 1, 0, 0, 1, 0, 1, 0, 0, 1, 0, 1, 1, 1, 1, 1, 0, 1, 0, 0, 0, 0, 1, 1, 0, 1, 0, 0, 0, 0, 1, 0, 0, 0, 1, 1, 1, 0, 0, 1, 1, 1, 1, 1, 1, 0, 1, 0, 0, 1, 1, 1, 0, 0, 0, 1, 0, 1, 1, 1, 1, 0, 0, 1, 1, 1, 1, 1, 0, 1, 1, 0, 0, 1, 0, 0, 0, 0, 0, 0, 0, 0, 1, 1, 1, 0, 0, 0, 1, 1, 0, 1, 0, 0, 0, 0, 0, 0, 1, 1, 0, 1, 1, 0, 1, 1, 0, 1, 1, 1, 1, 1, 1, 1, 0, 0, 0, 1, 1, 0, 0, 0, 0, 0, 0, 0, 1, 0, 1, 0, 1, 0, 0, 1, 0, 1, 1, 0, 0, 1, 0, 0, 1, 0, 1, 1, 0, 0, 1, 1, 0, 0, 0, 0, 1, 1, 0, 0, 1, 1, 1, 1, 1, 1, 0, 1, 1, 1, 0, 0, 1, 0, 0, 0, 1, 1, 0, 1, 0, 0, 1, 0, 1, 1, 1, 1, 1, 1, 0, 1, 1, 0, 1, 1, 0, 0, 1, 1, 0, 0, 1, 0, 0, 1, 0, 0, 0, 0, 1, 1, 1, 0, 1, 1, 0, 1, 0, 1, 1, 0, 0, 1, 0, 1, 1, 0, 0, 1, 0, 0, 1, 0, 0, 1, 0, 0, 0, 1, 1, 0, 1, 0, 1, 1, 1, 0, 0, 1, 1, 1, 1, 1, 0, 0, 0, 0, 1, 1, 1, 0, 0, 0, 1, 0, 0, 0, 0, 1, 0, 1, 1, 1, 0, 1, 0, 0, 1, 1, 0, 1, 1, 0, 1, 0, 0, 0, 0, 0, 0, 1, 1, 1, 1, 1, 0, 1, 0, 1, 1, 0, 1, 1, 1, 1, 0, 0, 0, 0, 1, 0, 0, 1, 0, 1, 1, 1, 1, 0, 0, 0, 0, 0, 0, 0, 1, 1, 1, 0, 1, 0, 0, 0, 0, 0, 0, 0, 0, 0, 1, 1, 1, 1, 0, 1, 0, 1, 1, 0, 1, 0, 0, 0, 0, 1, 1, 0, 0, 1, 0, 0, 1, 0, 1, 1, 0, 0, 1, 0, 0, 1, 1, 0, 0, 1, 1, 1, 1, 0, 1, 1, 0, 0, 1, 0, 1, 1, 0, 1, 1, 0, 1, 0, 0, 1, 0, 1, 0, 1, 1, 1, 0, 0, 0, 0, 1, 1, 0, 1, 0, 0, 1, 0, 0, 0, 0, 0, 1, 0, 0, 1, 0, 0, 1, 1, 1, 1, 1, 0, 1, 1, 0, 1, 1, 1, 0, 0, 0, 1, 1, 1, 0, 1, 1, 0, 0, 1, 0, 0, 0, 0, 1, 1, 1, 0, 1, 0, 0, 0, 0, 0, 1, 0, 1, 1, 1, 1, 0, 0, 0, 1, 1, 1, 0, 1, 1, 1, 1, 1, 0, 0, 0, 0, 1, 0, 1, 1, 1, 0, 0, 0, 1, 0, 1, 0, 0, 0, 0, 1, 1, 1, 1, 1, 1, 1, 0, 1, 1, 0, 1, 1, 1, 0, 1, 0, 1, 1, 0, 0, 1, 1, 0, 0, 1, 0, 0, 0, 1, 0, 1, 0, 1, 0, 1, 0, 1, 1, 0, 0, 0, 1, 1, 1, 0, 1, 1, 0, 0, 1, 0, 1, 0, 1, 0, 0, 0, 1, 0, 1, 0, 0, 0, 0, 0, 0, 1, 1, 1, 1, 0, 1, 0, 0, 1, 0, 0, 1, 0, 1, 0, 1, 0, 0, 1, 0, 1, 1, 0, 0, 1, 0, 0, 0, 1, 1, 0, 1, 1, 0, 1, 0, 1, 1, 0, 1, 0, 0, 1, 1, 0, 0, 0, 0, 1, 0, 0, 0, 1, 1, 0, 1, 0, 0, 0, 0, 0, 1, 1, 0, 0, 1, 0, 0, 0, 0, 1, 0, 1, 1, 0, 1, 1, 0, 0, 1, 0, 1, 1, 1, 0, 1, 1, 0, 0, 0, 0, 1, 1, 0, 0, 0, 1, 0, 0, 1, 0, 0, 0, 0, 1, 1, 0, 0, 0, 0, 0, 1, 1, 1, 1, 1, 1, 0, 0, 1, 0, 1, 0, 2, 2, 2, 2, 0, 0, 0, 2, 0, 0, 0, 2, 2, 2, 0, 2, 0, 2, 0, 0, 2, 2, 0, 2, 0, 2, 2, 0, 2, 0, 2, 0, 2, 2, 0, 2, 0, 0, 2, 2, 0, 2, 2, 0, 0, 2, 0, 2, 2, 2, 0, 2, 0, 0, 0, 0, 0, 2, 2, 0, 2, 0, 2, 0, 2, 0, 2, 0, 0, 0, 0, 0, 0, 0, 2, 2, 0, 0, 2, 2, 2, 2, 2, 0, 2, 0, 2, 0, 2, 0, 2, 0, 2, 2, 0, 2, 0, 0, 0, 0, 2, 0, 2, 0, 2, 0, 0, 0, 0, 2, 2, 0, 2, 2, 2, 0, 0, 0, 2, 2, 0, 0, 2, 0, 2, 0, 2, 2, 2, 0, 0, 2, 2, 0, 2, 2, 0, 0, 2, 2, 0, 2, 0, 0, 0, 0, 2, 2, 0, 2, 0, 0, 0, 2, 2, 2, 0, 0, 0, 2, 0, 2, 0, 0, 0, 0, 0, 2, 0, 0, 2, 0, 0, 2, 0, 0, 2, 0, 2, 2, 2, 0, 0, 2, 0, 0, 0, 2, 2, 2, 2, 0, 2, 0, 0, 2, 2, 2, 2, 2, 2, 2, 2, 0, 0, 2, 0, 2, 2, 2, 0, 2, 2, 2, 0, 2, 2, 0, 0, 2, 2, 0, 2, 0, 0, 2, 0, 0, 2, 0, 2, 2, 2, 2, 2, 0, 0, 2, 2, 2, 2, 0, 2, 2, 2, 2, 3, 0, 0, 3, 3, 0, 0, 3, 3, 3, 3, 0, 0, 0, 3, 3, 3, 0, 3, 0, 3, 3, 0, 0, 3, 3, 0, 3, 0, 0, 3, 0, 3, 3, 0, 0, 0, 3, 3, 3, 3, 0, 0, 0, 3, 0, 0, 3, 0, 0, 3, 0, 3, 3, 0, 0, 3, 0, 3, 0, 3, 0, 0, 0, 3, 3, 0, 3, 0, 3, 0, 0, 0, 0, 0, 0, 0, 3, 3, 3, 3, 0, 3, 0, 0, 3, 0, 3, 0, 0, 3, 3, 0, 0, 0, 0, 0, 0, 0, 0, 0, 0, 3, 3, 3, 0, 3, 3, 0, 3, 0, 0, 3, 0, 3, 3, 0, 3, 3, 3, 3, 0, 3, 0, 3, 3, 3, 3, 3, 3, 3, 0, 0, 0, 0, 0, 0, 3, 3, 3, 3, 3, 3, 3, 0, 3, 3, 0, 3, 0, 3, 3, 0, 0, 0, 0, 0, 0, 3, 3, 3, 3, 0, 3, 3, 0, 0, 3, 3, 3, 3, 0, 0, 3, 3, 0, 0, 0, 4, 4, 4, 4, 0, 0, 4, 4, 0, 4, 0, 0, 4, 0, 4, 4, 4, 4, 0, 0, 0, 4, 0, 0, 0, 0, 4, 4, 4, 4, 0, 0, 0, 4, 0, 0, 0, 0, 4, 0, 4, 0, 0, 4, 0, 0, 4, 4, 4, 4, 4, 0, 4, 0, 0, 0, 4, 0, 4, 4, 4, 4, 0, 4, 0, 0, 0, 0, 0, 4, 0, 0, 4, 0, 0, 4, 4, 4, 0, 0, 4, 0, 4, 4, 0, 4, 0, 4, 0, 4, 4, 0, 0, 0, 4, 4, 0, 0, 4, 4, 0, 4, 4, 0, 0, 4, 4, 0, 0, 0, 4, 0, 4, 4, 0, 4, 0, 4, 0, 0, 4, 0, 4, 0, 4, 4, 0, 4, 4, 4, 0, 0, 0, 0, 4, 0, 0, 4, 0, 4, 4, 0, 4, 0, 4, 0, 4, 0, 4, 4, 4, 4, 4, 0, 0, 0, 4, 4, 4]\n",
            "[0, 3, 1, 0, 3, 0, 4, 0, 4, 4, 1, 1, 3, 1, 3, 1, 0, 1, 1, 3, 1, 1, 1, 1, 1, 0, 1, 2, 1, 0, 0, 3, 4, 3, 1, 0, 0, 2, 3, 3, 0, 1, 0, 0, 1, 1, 1, 1, 2, 4, 0, 2, 1, 1, 3, 1, 3, 1, 0, 1, 1, 1, 4, 1, 0, 0, 4, 1, 1, 0, 3, 2, 1, 3, 1, 3, 3, 0, 3, 0, 1, 3, 1, 3, 0, 0, 1, 0, 3, 2, 2, 2, 4, 4, 2, 0, 3, 1, 3, 3, 3, 0, 3, 0, 0, 1, 2, 3, 0, 1, 3, 4, 3, 0, 4, 2, 0, 1, 1, 1, 0, 1, 1, 1, 3, 3, 1, 0, 0, 1, 0, 3, 0, 2, 3, 3, 1, 0, 1, 4, 1, 0, 1, 4, 3, 0, 2, 3, 0, 4, 3, 1, 1, 0, 1, 1, 3, 3, 1, 0, 1, 1, 1, 1, 1, 0, 1, 3, 4, 0, 1, 1, 0, 3, 1, 0, 0, 4, 0, 2, 4, 0, 0, 1, 1, 1, 1, 0, 1, 4, 1, 1, 0, 0, 3, 1, 0, 1, 1, 1, 2, 4, 1, 2, 0, 1, 3, 2, 3, 1, 0, 0, 0, 1, 0, 3, 0, 1, 3, 4, 2, 3, 3, 0, 3, 3, 0, 0, 0, 0, 1, 0, 3, 1, 1, 0, 0, 3, 0, 3, 3, 1, 2, 2, 1, 0, 1, 2, 0, 3, 1, 3, 3, 3, 1, 2, 3, 0, 1, 1, 1, 0, 4, 1, 1, 2, 3, 0, 3, 2, 0, 4, 3, 0, 0, 0, 0, 1, 1, 1, 3, 1, 2, 0, 4, 0, 0, 0, 1, 1, 2, 1, 3, 1, 0, 0, 0, 3, 4, 1, 1, 4, 1, 1, 2, 1, 3, 1, 3, 1, 3, 3, 3, 1, 0, 1, 0, 3, 1, 3, 1, 0, 1, 0, 2, 0, 0, 1, 3, 3, 0, 0, 1, 1, 1, 3, 0, 1, 0, 2, 3, 1, 3, 3, 1, 1, 1, 3, 0, 0, 0, 3, 0, 2, 3, 1, 0, 1, 3, 0, 1, 0, 4, 0, 3, 2, 0, 4, 2, 4, 4, 3, 2, 0, 0, 0, 0, 1, 0, 2, 3, 1, 3, 0, 1, 3, 0, 2, 1, 3, 0, 3, 0, 3, 0, 1, 3, 3, 4, 2, 1, 1, 2, 1, 0, 3, 3, 3, 0, 0, 0, 1, 0, 0, 0, 1, 2, 1, 2, 3, 1, 3, 3, 1, 3, 3, 0, 3, 3, 1, 0, 1, 0, 1, 2, 1, 0, 0, 1, 2, 0, 0, 1, 2, 1, 3, 0, 3, 0, 0, 2, 2, 1, 2, 0, 0, 1, 0, 3, 1, 3, 1, 1, 1, 1, 1, 1, 0, 1, 2, 0, 1, 0, 1, 3, 1, 0, 1, 3, 4, 3, 1, 1, 2, 0, 1, 2, 1, 0, 3, 0, 0, 1, 1, 0, 0, 0, 0, 3, 0, 1, 1, 3, 0, 3, 1, 1, 1, 2, 0, 4, 3, 0, 3, 0, 3, 0, 0, 0, 0, 2, 0, 1, 3, 2, 3, 1, 1, 2, 4, 1, 3, 1, 3, 1, 3, 0, 1, 1, 1, 3, 1, 3, 3, 1, 3, 0, 0, 3, 2, 3, 0, 1, 0, 0, 3, 1, 1, 3, 0, 2, 1, 1, 0, 1, 2, 1, 1, 1, 1, 4, 1, 0, 0, 0, 0, 2, 0, 3, 2, 4, 3, 1, 0, 3, 0, 3, 2, 0, 0, 4, 0, 1, 1, 0, 0, 3, 1, 0, 1, 0, 3, 0, 0, 1, 1, 4, 1, 3, 4, 3, 1, 1, 0, 1, 3, 0, 0, 1, 1, 0, 3, 2, 0, 3, 1, 3, 1, 1, 0, 0, 1, 1, 0, 1, 1, 1, 1, 0, 1, 1, 0, 0, 4, 1, 2, 0, 1, 1, 1, 0, 0, 4, 2, 0, 3, 0, 2, 0, 3, 0, 0, 1, 0, 0, 0, 3, 0, 3, 0, 1, 1, 2, 3, 0, 3, 0, 1, 3, 3, 0, 0, 4, 3, 3, 0, 3, 3, 3, 1, 2, 0, 1, 2, 0, 1, 0, 0, 2, 1, 3, 1, 1, 1, 1, 2, 0, 1, 0, 3, 0, 2, 1, 1, 1, 1, 1, 4, 0, 1, 2, 1, 0, 1, 3, 3, 0, 4, 3, 2, 1, 0, 0, 3, 0, 2, 1, 3, 3, 4, 0, 0, 0, 2, 3, 2, 1, 0, 3, 1, 4, 1, 0, 3, 3, 0, 2, 0, 1, 0, 1, 1, 2, 2, 2, 1, 0, 2, 3, 0, 0, 2, 2, 1, 1, 2, 1, 1, 3, 1, 1, 0, 1, 2, 1, 1, 2, 0, 1, 3, 3, 0, 0, 0, 2, 1, 4, 0, 1, 0, 0, 0, 3, 0, 3, 3, 1, 1, 3, 1, 1, 3, 0, 0, 0, 0, 0, 1, 1, 1, 3, 1, 0, 0, 1, 0, 1, 0, 3, 3, 0, 1, 3, 0, 0, 3, 1, 1, 1, 0, 0, 1, 2, 0, 1, 4, 1, 1, 1, 0, 1, 0, 0, 2, 2, 0, 0, 0, 2, 3, 1, 1, 4, 4, 1, 1, 0, 3, 0, 1, 3, 0, 3, 1, 1, 0, 0, 0, 2, 3, 0, 0, 1, 3, 3, 1, 2, 1, 0, 0, 0, 3, 1, 1, 0, 1, 1, 1, 1, 3, 0, 2, 0, 3, 4, 0, 1, 1, 1, 3, 0, 2, 1, 2, 4, 3, 3, 3, 3, 3, 1, 1, 1, 3, 1, 1, 0, 3, 1, 1, 1, 1, 2, 2, 1, 2, 3, 3, 3, 0, 1, 1, 0, 0, 1, 3, 0, 3, 0, 3, 4, 3, 0, 0, 3, 0, 1, 1, 0, 0, 0, 1, 1, 1, 4, 1, 2, 2, 4, 1, 3, 4, 1, 1, 4, 3, 0, 1, 3, 1, 0, 2, 0, 0, 0, 3, 1, 1, 3, 1, 0, 1, 0, 1, 1, 0, 0, 3, 0, 0, 0, 3, 2, 1, 1, 3, 1, 3, 3, 2, 0, 4, 1, 1, 4, 0, 0, 3, 4, 1, 1, 3, 4, 3, 0, 2, 3, 3, 1, 1, 0, 0, 1, 1, 2, 0, 0, 0, 1, 1, 1, 3, 2, 0, 3, 0, 0, 1, 1, 0, 0, 3, 2, 0, 0, 2, 1, 0, 1, 1, 3, 1, 1, 1, 1, 2, 3, 1, 1, 2, 0, 1, 0, 1, 3, 3, 2, 4, 1, 1, 0, 0, 1, 0, 0, 3, 0, 0, 1, 4, 2, 2, 2, 0, 0, 1, 0, 3, 0, 1, 0, 1, 0, 0, 2, 1, 1, 1, 0, 2, 0, 3, 2, 2, 4, 3, 1, 3, 0, 1, 0, 3, 3, 0, 2, 3, 2, 0, 2, 3, 2, 3, 3, 2, 2, 1, 1, 3, 4, 1, 2, 4, 3, 4, 2, 3, 2, 1, 1, 0, 2, 3, 1, 3, 3, 4, 3, 3, 1, 0, 3, 1, 1, 0, 1, 3, 2, 2, 1, 1, 3, 2, 0, 1, 0, 3, 0, 0, 3, 0, 4, 0, 2, 3, 3, 3, 1, 1, 2, 0, 3, 2, 2, 1, 1, 2, 1, 2, 2, 2, 2, 3, 0, 3, 3, 0, 1, 1, 3, 2, 0, 3, 1, 3, 4, 4, 0, 2, 2, 3, 1, 3, 3, 3, 0, 0, 0, 4, 1, 3, 1, 3, 0, 3, 1, 3, 1, 0, 3, 0, 1, 3, 0, 2, 1, 0, 0, 2, 2, 3, 1, 0, 2, 3, 0, 3, 2, 3, 1, 0, 2, 3, 3, 2, 4, 1, 4, 3, 1, 2, 1, 2, 0, 4, 3, 1, 1, 3, 2, 1, 3, 2, 3, 0, 0, 0, 1, 2, 3, 2, 0, 3, 3, 3, 3, 3, 0, 2, 2, 3, 0, 2, 3, 1, 1, 0, 1, 3, 3, 3, 2, 0, 0, 0, 3, 0, 3, 3, 1, 1, 1, 0, 2, 1, 0, 2, 1, 0, 3, 3, 0, 1, 0, 0, 3, 3, 1, 0, 0, 2, 3, 2, 2, 2, 2, 0, 3, 2, 3, 1, 1, 1, 2, 1, 2, 0, 0, 2, 1, 2, 2, 0, 1, 2, 3, 1, 0, 3, 0, 1, 1, 3, 3, 1, 1, 2, 3, 0, 0, 1, 3, 1, 0, 0, 0, 3, 3, 2, 3, 0, 0, 1, 3, 0, 3, 3, 1, 0, 0, 2, 0, 3, 4, 0, 0, 4, 4, 0, 3, 0, 3, 3, 1, 3, 1, 3, 1, 0, 0, 3, 2, 0, 1, 3, 1, 1, 4, 3, 0, 2, 1, 3, 3, 1, 1, 3, 1, 1, 3, 0, 3, 3, 1, 2, 3, 0, 3, 1, 2, 0, 0, 3, 1, 0, 0, 0, 1, 3, 3, 2, 2, 3, 4, 3, 3, 1, 1, 3, 1, 1, 0, 1, 3, 3, 3, 3, 0, 3, 0, 3, 3, 3, 3, 0, 3, 3, 2, 0, 0, 0, 0, 3, 3, 2, 3, 0, 2, 1, 3, 0, 0, 3, 3, 3, 3, 3, 3, 0, 0, 3, 1, 3, 1, 3, 0, 0, 3, 0, 3, 2, 0, 2, 3, 1, 3, 3, 3, 3, 3, 3, 1, 3, 3, 4, 2, 4, 4, 0, 2, 4, 1, 2, 3, 3, 2, 3, 3, 3, 3, 4, 4, 1, 0, 3, 4, 3, 0, 1, 4, 4, 4, 4, 4, 0, 1, 4, 3, 4, 3, 1, 3, 3, 0, 3, 2, 4, 2, 0, 0, 3, 1, 1, 4, 4, 0, 2, 0, 0, 0, 2, 0, 4, 3, 3, 1, 0, 4, 0, 2, 1, 2, 1, 1, 3, 0, 1, 3, 0, 3, 1, 3, 0, 0, 3, 0, 0, 4, 0, 3, 1, 0, 1, 4, 1, 1, 0, 0, 1, 4, 2, 3, 4, 3, 0, 4, 4, 0, 2, 1, 4, 1, 3, 3, 3, 1, 0, 3, 3, 4, 1, 3, 1, 1, 3, 2, 0, 0, 3, 4, 0, 1, 3, 1, 1, 4, 0, 0, 1, 0, 3, 4, 0, 3, 1, 3, 3, 3, 0, 0, 4, 0, 0, 3, 4, 3, 2, 0, 4, 0, 1, 4, 4]\n",
            "Accuracy: 0.4491725768321513\n",
            "F1 Score: 0.3623640777708156\n",
            "Precision: 0.3800562591451393\n",
            "Recall: 0.4280249304295965\n"
          ]
        }
      ]
    },
    {
      "cell_type": "markdown",
      "source": [
        "# Task 5"
      ],
      "metadata": {
        "id": "XDZoSdbiqk1c"
      }
    },
    {
      "cell_type": "code",
      "source": [
        "import json\n",
        "import torch\n",
        "embeddings = []\n",
        "labels = []\n",
        "\n",
        "for i in range(1, 5):\n",
        "    with open(f'/content/drive/MyDrive/CSCI544-Project/data/class_wise_embeddings/train_embeddings/other_train_file_{i}.json', 'r') as f:\n",
        "        for line in f:\n",
        "            data = json.loads(line)\n",
        "            embeddings.append(data['embeddings'][0])\n",
        "            labels.append(data['label'])\n",
        "\n",
        "# Convert lists to tensors\n",
        "embeddings0 = torch.tensor(embeddings)\n",
        "labels0 = torch.tensor(labels)\n",
        "\n",
        "print(embeddings0.size())  # This will show the shape of the embeddings tensor\n",
        "print(labels0.size())     # This will show the shape of the labels tensor\n",
        "\n",
        "model.add_network()\n",
        "model.train(4, embeddings=embeddings0, labels=labels0)\n",
        "\n",
        "embeddings = []\n",
        "labels = []\n",
        "\n",
        "with open(f'/content/drive/MyDrive/CSCI544-Project/data/class_wise_embeddings/test_embeddings/dos_test_file.json', 'r') as f:\n",
        "    for line in f:\n",
        "        data = json.loads(line)\n",
        "        embeddings.append(data['embeddings'][0])\n",
        "        labels.append([data['label'], 0, 0, 0, 0])\n",
        "\n",
        "with open(f'/content/drive/MyDrive/CSCI544-Project/data/class_wise_embeddings/test_embeddings/+info_test_file.json', 'r') as f:\n",
        "    for line in f:\n",
        "        data = json.loads(line)\n",
        "        embeddings.append(data['embeddings'][0])\n",
        "        labels.append([0, data['label'], 0, 0, 0])\n",
        "\n",
        "with open(f'/content/drive/MyDrive/CSCI544-Project/data/class_wise_embeddings/test_embeddings/bypass_test_file.json', 'r') as f:\n",
        "    for line in f:\n",
        "        data = json.loads(line)\n",
        "        embeddings.append(data['embeddings'][0])\n",
        "        labels.append([0, 0, data['label'], 0, 0])\n",
        "\n",
        "with open(f'/content/drive/MyDrive/CSCI544-Project/data/class_wise_embeddings/test_embeddings/+priv_test_file.json', 'r') as f:\n",
        "    for line in f:\n",
        "        data = json.loads(line)\n",
        "        embeddings.append(data['embeddings'][0])\n",
        "        labels.append([0, 0, 0, data['label'], 0])\n",
        "\n",
        "with open(f'/content/drive/MyDrive/CSCI544-Project/data/class_wise_embeddings/test_embeddings/other_test_file.json', 'r') as f:\n",
        "    for line in f:\n",
        "        data = json.loads(line)\n",
        "        embeddings.append(data['embeddings'][0])\n",
        "        labels.append([0, 0, 0, 0, data['label']])\n",
        "\n",
        "# Convert lists to tensors\n",
        "embeddings0 = torch.tensor(embeddings)\n",
        "labels0 = torch.tensor(labels)\n",
        "\n",
        "model.test(embeddings0, labels0, 4)"
      ],
      "metadata": {
        "colab": {
          "base_uri": "https://localhost:8080/"
        },
        "id": "UXVl6YCrqlAy",
        "outputId": "85dad45a-4da6-448d-c9ab-af88b9103480"
      },
      "execution_count": 124,
      "outputs": [
        {
          "output_type": "stream",
          "name": "stdout",
          "text": [
            "torch.Size([800, 256])\n",
            "torch.Size([800])\n",
            "Epoch 10/50, Loss: 0.23601451516151428\n",
            "Epoch 20/50, Loss: 0.0087825246155262\n",
            "Epoch 30/50, Loss: 0.0010724071180447936\n",
            "Epoch 40/50, Loss: 0.0003146614180877805\n",
            "Epoch 50/50, Loss: 0.03665764629840851\n",
            "[0, 0, 1, 0, 1, 0, 1, 1, 1, 0, 1, 1, 1, 1, 1, 1, 0, 0, 1, 0, 1, 0, 0, 1, 1, 0, 1, 1, 0, 1, 1, 1, 1, 1, 1, 1, 0, 1, 0, 1, 0, 0, 0, 0, 1, 1, 1, 1, 0, 1, 0, 1, 1, 0, 0, 0, 0, 1, 0, 1, 1, 1, 1, 1, 0, 1, 1, 1, 0, 1, 1, 0, 0, 1, 1, 0, 1, 0, 1, 0, 1, 1, 0, 1, 0, 0, 0, 0, 1, 0, 0, 1, 0, 1, 0, 0, 0, 1, 0, 1, 1, 1, 1, 0, 0, 1, 0, 1, 0, 1, 0, 1, 1, 0, 1, 1, 0, 1, 1, 1, 0, 1, 1, 1, 1, 0, 1, 0, 0, 0, 0, 1, 0, 1, 1, 1, 1, 0, 0, 1, 1, 0, 1, 1, 1, 1, 0, 0, 0, 1, 1, 1, 1, 1, 1, 1, 0, 1, 1, 0, 1, 1, 1, 0, 1, 1, 1, 0, 0, 1, 1, 0, 0, 1, 1, 0, 0, 1, 0, 1, 0, 0, 0, 1, 1, 1, 0, 0, 0, 1, 0, 0, 0, 0, 0, 1, 1, 1, 1, 1, 0, 1, 1, 1, 0, 1, 1, 0, 1, 1, 1, 0, 0, 0, 0, 1, 0, 1, 0, 1, 1, 1, 1, 1, 1, 0, 0, 0, 1, 0, 1, 1, 1, 0, 1, 0, 0, 1, 0, 1, 1, 1, 1, 0, 1, 0, 1, 0, 1, 0, 0, 0, 1, 1, 1, 1, 0, 0, 1, 1, 1, 0, 0, 1, 0, 0, 0, 0, 1, 1, 0, 1, 1, 1, 1, 0, 0, 1, 1, 1, 1, 1, 1, 0, 0, 0, 0, 0, 1, 1, 1, 0, 1, 0, 0, 0, 1, 0, 1, 1, 1, 1, 1, 0, 0, 0, 1, 1, 1, 0, 1, 1, 0, 1, 1, 1, 1, 1, 1, 1, 1, 1, 0, 0, 0, 0, 0, 0, 1, 1, 0, 0, 1, 0, 1, 0, 0, 1, 0, 1, 0, 1, 0, 1, 1, 0, 0, 1, 1, 1, 0, 1, 0, 1, 0, 1, 0, 0, 1, 1, 1, 1, 1, 0, 0, 0, 1, 0, 0, 1, 1, 1, 0, 0, 0, 0, 0, 1, 0, 1, 1, 1, 0, 0, 1, 1, 0, 0, 0, 0, 0, 1, 0, 0, 1, 1, 1, 1, 1, 0, 1, 0, 1, 1, 0, 1, 1, 0, 0, 0, 1, 1, 0, 0, 0, 1, 1, 1, 0, 0, 1, 1, 1, 1, 0, 0, 1, 0, 1, 0, 0, 1, 0, 1, 1, 1, 1, 1, 0, 1, 0, 0, 0, 0, 1, 1, 0, 1, 0, 0, 0, 0, 1, 0, 0, 0, 1, 1, 1, 0, 0, 1, 1, 1, 1, 1, 1, 0, 1, 0, 0, 1, 1, 1, 0, 0, 0, 1, 0, 1, 1, 1, 1, 0, 0, 1, 1, 1, 1, 1, 0, 1, 1, 0, 0, 1, 0, 0, 0, 0, 0, 0, 0, 0, 1, 1, 1, 0, 0, 0, 1, 1, 0, 1, 0, 0, 0, 0, 0, 0, 1, 1, 0, 1, 1, 0, 1, 1, 0, 1, 1, 1, 1, 1, 1, 1, 0, 0, 0, 1, 1, 0, 0, 0, 0, 0, 0, 0, 1, 0, 1, 0, 1, 0, 0, 1, 0, 1, 1, 0, 0, 1, 0, 0, 1, 0, 1, 1, 0, 0, 1, 1, 0, 0, 0, 0, 1, 1, 0, 0, 1, 1, 1, 1, 1, 1, 0, 1, 1, 1, 0, 0, 1, 0, 0, 0, 1, 1, 0, 1, 0, 0, 1, 0, 1, 1, 1, 1, 1, 1, 0, 1, 1, 0, 1, 1, 0, 0, 1, 1, 0, 0, 1, 0, 0, 1, 0, 0, 0, 0, 1, 1, 1, 0, 1, 1, 0, 1, 0, 1, 1, 0, 0, 1, 0, 1, 1, 0, 0, 1, 0, 0, 1, 0, 0, 1, 0, 0, 0, 1, 1, 0, 1, 0, 1, 1, 1, 0, 0, 1, 1, 1, 1, 1, 0, 0, 0, 0, 1, 1, 1, 0, 0, 0, 1, 0, 0, 0, 0, 1, 0, 1, 1, 1, 0, 1, 0, 0, 1, 1, 0, 1, 1, 0, 1, 0, 0, 0, 0, 0, 0, 1, 1, 1, 1, 1, 0, 1, 0, 1, 1, 0, 1, 1, 1, 1, 0, 0, 0, 0, 1, 0, 0, 1, 0, 1, 1, 1, 1, 0, 0, 0, 0, 0, 0, 0, 1, 1, 1, 0, 1, 0, 0, 0, 0, 0, 0, 0, 0, 0, 1, 1, 1, 1, 0, 1, 0, 1, 1, 0, 1, 0, 0, 0, 0, 1, 1, 0, 0, 1, 0, 0, 1, 0, 1, 1, 0, 0, 1, 0, 0, 1, 1, 0, 0, 1, 1, 1, 1, 0, 1, 1, 0, 0, 1, 0, 1, 1, 0, 1, 1, 0, 1, 0, 0, 1, 0, 1, 0, 1, 1, 1, 0, 0, 0, 0, 1, 1, 0, 1, 0, 0, 1, 0, 0, 0, 0, 0, 1, 0, 0, 1, 0, 0, 1, 1, 1, 1, 1, 0, 1, 1, 0, 1, 1, 1, 0, 0, 0, 1, 1, 1, 0, 1, 1, 0, 0, 1, 0, 0, 0, 0, 1, 1, 1, 0, 1, 0, 0, 0, 0, 0, 1, 0, 1, 1, 1, 1, 0, 0, 0, 1, 1, 1, 0, 1, 1, 1, 1, 1, 0, 0, 0, 0, 1, 0, 1, 1, 1, 0, 0, 0, 1, 0, 1, 0, 0, 0, 0, 1, 1, 1, 1, 1, 1, 1, 0, 1, 1, 0, 1, 1, 1, 0, 1, 0, 1, 1, 0, 0, 1, 1, 0, 0, 1, 0, 0, 0, 1, 0, 1, 0, 1, 0, 1, 0, 1, 1, 0, 0, 0, 1, 1, 1, 0, 1, 1, 0, 0, 1, 0, 1, 0, 1, 0, 0, 0, 1, 0, 1, 0, 0, 0, 0, 0, 0, 1, 1, 1, 1, 0, 1, 0, 0, 1, 0, 0, 1, 0, 1, 0, 1, 0, 0, 1, 0, 1, 1, 0, 0, 1, 0, 0, 0, 1, 1, 0, 1, 1, 0, 1, 0, 1, 1, 0, 1, 0, 0, 1, 1, 0, 0, 0, 0, 1, 0, 0, 0, 1, 1, 0, 1, 0, 0, 0, 0, 0, 1, 1, 0, 0, 1, 0, 0, 0, 0, 1, 0, 1, 1, 0, 1, 1, 0, 0, 1, 0, 1, 1, 1, 0, 1, 1, 0, 0, 0, 0, 1, 1, 0, 0, 0, 1, 0, 0, 1, 0, 0, 0, 0, 1, 1, 0, 0, 0, 0, 0, 1, 1, 1, 1, 1, 1, 0, 0, 1, 0, 1, 0, 2, 2, 2, 2, 0, 0, 0, 2, 0, 0, 0, 2, 2, 2, 0, 2, 0, 2, 0, 0, 2, 2, 0, 2, 0, 2, 2, 0, 2, 0, 2, 0, 2, 2, 0, 2, 0, 0, 2, 2, 0, 2, 2, 0, 0, 2, 0, 2, 2, 2, 0, 2, 0, 0, 0, 0, 0, 2, 2, 0, 2, 0, 2, 0, 2, 0, 2, 0, 0, 0, 0, 0, 0, 0, 2, 2, 0, 0, 2, 2, 2, 2, 2, 0, 2, 0, 2, 0, 2, 0, 2, 0, 2, 2, 0, 2, 0, 0, 0, 0, 2, 0, 2, 0, 2, 0, 0, 0, 0, 2, 2, 0, 2, 2, 2, 0, 0, 0, 2, 2, 0, 0, 2, 0, 2, 0, 2, 2, 2, 0, 0, 2, 2, 0, 2, 2, 0, 0, 2, 2, 0, 2, 0, 0, 0, 0, 2, 2, 0, 2, 0, 0, 0, 2, 2, 2, 0, 0, 0, 2, 0, 2, 0, 0, 0, 0, 0, 2, 0, 0, 2, 0, 0, 2, 0, 0, 2, 0, 2, 2, 2, 0, 0, 2, 0, 0, 0, 2, 2, 2, 2, 0, 2, 0, 0, 2, 2, 2, 2, 2, 2, 2, 2, 0, 0, 2, 0, 2, 2, 2, 0, 2, 2, 2, 0, 2, 2, 0, 0, 2, 2, 0, 2, 0, 0, 2, 0, 0, 2, 0, 2, 2, 2, 2, 2, 0, 0, 2, 2, 2, 2, 0, 2, 2, 2, 2, 3, 0, 0, 3, 3, 0, 0, 3, 3, 3, 3, 0, 0, 0, 3, 3, 3, 0, 3, 0, 3, 3, 0, 0, 3, 3, 0, 3, 0, 0, 3, 0, 3, 3, 0, 0, 0, 3, 3, 3, 3, 0, 0, 0, 3, 0, 0, 3, 0, 0, 3, 0, 3, 3, 0, 0, 3, 0, 3, 0, 3, 0, 0, 0, 3, 3, 0, 3, 0, 3, 0, 0, 0, 0, 0, 0, 0, 3, 3, 3, 3, 0, 3, 0, 0, 3, 0, 3, 0, 0, 3, 3, 0, 0, 0, 0, 0, 0, 0, 0, 0, 0, 3, 3, 3, 0, 3, 3, 0, 3, 0, 0, 3, 0, 3, 3, 0, 3, 3, 3, 3, 0, 3, 0, 3, 3, 3, 3, 3, 3, 3, 0, 0, 0, 0, 0, 0, 3, 3, 3, 3, 3, 3, 3, 0, 3, 3, 0, 3, 0, 3, 3, 0, 0, 0, 0, 0, 0, 3, 3, 3, 3, 0, 3, 3, 0, 0, 3, 3, 3, 3, 0, 0, 3, 3, 0, 0, 0, 4, 4, 4, 4, 0, 0, 4, 4, 0, 4, 0, 0, 4, 0, 4, 4, 4, 4, 0, 0, 0, 4, 0, 0, 0, 0, 4, 4, 4, 4, 0, 0, 0, 4, 0, 0, 0, 0, 4, 0, 4, 0, 0, 4, 0, 0, 4, 4, 4, 4, 4, 0, 4, 0, 0, 0, 4, 0, 4, 4, 4, 4, 0, 4, 0, 0, 0, 0, 0, 4, 0, 0, 4, 0, 0, 4, 4, 4, 0, 0, 4, 0, 4, 4, 0, 4, 0, 4, 0, 4, 4, 0, 0, 0, 4, 4, 0, 0, 4, 4, 0, 4, 4, 0, 0, 4, 4, 0, 0, 0, 4, 0, 4, 4, 0, 4, 0, 4, 0, 0, 4, 0, 4, 0, 4, 4, 0, 4, 4, 4, 0, 0, 0, 0, 4, 0, 0, 4, 0, 4, 4, 0, 4, 0, 4, 0, 4, 0, 4, 4, 4, 4, 4, 0, 0, 0, 4, 4, 4, 5, 5, 0, 5, 0, 0, 5, 5, 5, 5, 5, 5, 0, 5, 0, 0, 0, 0, 0, 0, 5, 5, 0, 5, 5, 5, 0, 0, 0, 5, 0, 5, 5, 0, 0, 0, 0, 0, 5, 5, 0, 0, 5, 5, 5, 0, 0, 0, 0, 0, 5, 0, 5, 5, 5, 0, 0, 5, 0, 5, 5, 0, 5, 0, 0, 5, 0, 0, 5, 5, 5, 0, 5, 0, 0, 0, 0, 5, 0, 0, 0, 5, 0, 5, 0, 0, 5, 0, 5, 5, 5, 0, 5, 5, 5, 0, 5, 0, 5, 5, 5, 5, 0, 0, 0, 5, 5, 5, 0, 5, 5, 0, 0, 5, 0, 5, 0, 0, 0, 0, 5, 0, 0, 0, 0, 5, 5, 5, 0, 5, 5, 0, 5, 5, 0, 0, 5, 0, 0, 0, 0, 5, 5, 5, 0, 5, 5, 5, 5, 5, 5, 0, 0, 5, 0, 0, 0, 0, 5, 0, 0, 5, 5, 0, 5, 0, 0, 0, 0, 0, 5, 0, 0, 5, 5, 5, 5, 5, 5, 0, 0, 0, 5, 5, 5, 0, 0, 0, 5, 5, 0, 5, 5, 5, 5, 5, 0, 0, 5, 5]\n",
            "[5, 3, 5, 5, 3, 0, 5, 5, 4, 5, 5, 1, 3, 5, 3, 1, 0, 5, 1, 5, 1, 5, 5, 1, 1, 5, 5, 2, 1, 0, 5, 5, 5, 3, 1, 0, 5, 5, 5, 3, 5, 5, 5, 5, 5, 5, 1, 1, 5, 5, 5, 2, 1, 1, 5, 5, 5, 1, 5, 1, 1, 5, 4, 1, 5, 5, 4, 5, 5, 5, 3, 5, 5, 3, 5, 5, 3, 5, 3, 0, 1, 3, 5, 5, 5, 5, 5, 5, 3, 2, 5, 2, 5, 4, 5, 5, 3, 1, 5, 3, 3, 5, 3, 5, 5, 5, 5, 3, 5, 5, 3, 4, 5, 5, 4, 5, 5, 1, 5, 1, 5, 5, 5, 1, 3, 3, 5, 5, 5, 5, 5, 5, 5, 2, 3, 3, 5, 5, 5, 4, 1, 5, 5, 5, 3, 5, 2, 5, 5, 5, 3, 1, 1, 5, 1, 1, 5, 3, 1, 5, 1, 5, 1, 5, 1, 5, 5, 5, 4, 5, 1, 5, 5, 5, 5, 5, 5, 4, 5, 5, 4, 5, 5, 5, 1, 1, 1, 5, 5, 4, 1, 5, 5, 0, 3, 1, 5, 5, 5, 1, 5, 5, 1, 5, 5, 1, 5, 2, 3, 5, 5, 5, 5, 1, 5, 3, 0, 1, 5, 5, 2, 5, 5, 5, 5, 5, 5, 5, 5, 5, 1, 5, 3, 5, 1, 5, 5, 3, 5, 5, 5, 1, 2, 2, 5, 5, 1, 2, 5, 5, 1, 5, 3, 3, 1, 5, 3, 5, 1, 1, 1, 5, 4, 5, 5, 2, 5, 5, 3, 5, 0, 5, 5, 5, 5, 5, 5, 5, 1, 1, 3, 5, 2, 5, 5, 5, 0, 5, 5, 5, 5, 5, 5, 5, 5, 5, 5, 3, 4, 1, 1, 4, 1, 5, 5, 1, 5, 5, 3, 1, 3, 3, 3, 1, 5, 1, 5, 5, 1, 5, 1, 5, 1, 5, 5, 5, 5, 5, 3, 5, 5, 5, 1, 5, 1, 3, 5, 1, 5, 5, 3, 1, 5, 3, 5, 5, 5, 3, 5, 5, 5, 5, 0, 2, 5, 1, 5, 5, 5, 5, 1, 5, 5, 5, 5, 5, 5, 4, 2, 4, 4, 3, 5, 5, 5, 5, 5, 5, 5, 5, 3, 5, 5, 5, 5, 3, 5, 5, 1, 5, 5, 5, 5, 3, 5, 1, 3, 3, 4, 2, 1, 5, 5, 5, 5, 5, 3, 3, 5, 0, 5, 1, 5, 5, 5, 1, 2, 1, 5, 5, 5, 5, 3, 1, 5, 5, 5, 5, 5, 1, 5, 1, 5, 5, 5, 1, 0, 5, 5, 5, 5, 5, 1, 2, 1, 5, 5, 5, 5, 5, 5, 2, 1, 2, 5, 5, 1, 5, 5, 5, 5, 1, 5, 1, 1, 1, 1, 0, 1, 5, 5, 5, 5, 1, 5, 1, 0, 5, 5, 4, 5, 5, 5, 2, 5, 1, 2, 5, 5, 3, 5, 5, 1, 5, 5, 5, 5, 5, 5, 5, 1, 1, 5, 0, 3, 1, 5, 5, 5, 5, 4, 5, 5, 5, 5, 3, 5, 5, 5, 5, 2, 5, 5, 3, 2, 5, 1, 1, 2, 4, 5, 5, 5, 5, 5, 3, 5, 1, 5, 5, 3, 5, 5, 5, 5, 3, 5, 5, 3, 5, 5, 5, 5, 5, 5, 3, 5, 1, 3, 5, 2, 1, 5, 5, 1, 5, 5, 1, 1, 5, 4, 1, 5, 5, 0, 5, 2, 5, 5, 2, 4, 5, 1, 5, 3, 0, 5, 2, 5, 5, 4, 5, 1, 1, 5, 5, 3, 1, 5, 5, 0, 5, 5, 5, 1, 5, 4, 1, 3, 4, 3, 1, 5, 5, 1, 5, 5, 5, 1, 1, 5, 3, 5, 5, 5, 1, 3, 5, 5, 5, 5, 1, 1, 5, 1, 1, 1, 1, 5, 1, 1, 5, 5, 4, 1, 2, 5, 1, 1, 1, 5, 0, 4, 5, 5, 5, 5, 5, 5, 5, 5, 5, 5, 5, 5, 5, 3, 0, 5, 0, 1, 5, 2, 5, 5, 3, 0, 5, 3, 3, 5, 5, 4, 3, 3, 5, 5, 5, 3, 5, 5, 5, 1, 5, 5, 1, 5, 5, 2, 1, 5, 1, 1, 5, 5, 2, 5, 5, 5, 3, 5, 2, 5, 1, 5, 1, 1, 4, 5, 5, 5, 1, 0, 5, 3, 3, 5, 5, 5, 2, 5, 5, 5, 3, 5, 2, 1, 5, 5, 4, 5, 5, 5, 5, 3, 2, 5, 0, 3, 1, 4, 1, 5, 5, 3, 5, 5, 5, 5, 5, 1, 1, 5, 5, 5, 1, 5, 5, 5, 5, 0, 5, 5, 1, 5, 5, 1, 5, 5, 1, 1, 5, 1, 2, 1, 5, 2, 5, 5, 5, 5, 5, 5, 5, 2, 1, 4, 5, 1, 5, 0, 5, 5, 5, 5, 3, 5, 5, 5, 1, 1, 5, 0, 0, 5, 5, 5, 5, 1, 1, 3, 1, 5, 5, 1, 0, 1, 5, 5, 3, 5, 1, 3, 5, 5, 3, 5, 5, 5, 5, 5, 1, 5, 5, 5, 4, 1, 1, 1, 5, 1, 5, 5, 2, 2, 5, 5, 5, 5, 5, 5, 1, 5, 4, 1, 1, 5, 3, 5, 5, 5, 5, 5, 1, 5, 5, 5, 5, 5, 5, 5, 5, 1, 3, 5, 1, 5, 1, 5, 5, 5, 3, 1, 1, 5, 5, 5, 5, 5, 3, 5, 5, 5, 5, 4, 5, 1, 5, 1, 5, 5, 5, 1, 5, 4, 5, 5, 3, 3, 3, 1, 1, 1, 3, 5, 1, 5, 3, 1, 1, 1, 5, 5, 5, 1, 5, 3, 5, 5, 5, 1, 1, 0, 5, 1, 5, 5, 5, 5, 5, 4, 5, 5, 5, 3, 5, 5, 5, 5, 5, 5, 5, 5, 1, 5, 5, 2, 2, 5, 5, 3, 5, 5, 5, 4, 5, 5, 1, 5, 1, 5, 5, 5, 5, 0, 5, 1, 5, 5, 1, 5, 1, 5, 5, 5, 5, 5, 3, 5, 5, 5, 3, 2, 5, 5, 5, 1, 5, 3, 5, 5, 4, 5, 5, 5, 5, 5, 3, 5, 5, 1, 5, 5, 3, 5, 2, 3, 3, 1, 1, 5, 5, 1, 1, 2, 5, 5, 5, 1, 1, 1, 3, 5, 0, 3, 5, 5, 5, 1, 5, 5, 3, 5, 5, 5, 2, 1, 5, 5, 5, 5, 1, 5, 5, 5, 2, 3, 5, 1, 2, 5, 5, 5, 5, 3, 5, 5, 4, 5, 5, 5, 5, 1, 5, 5, 3, 5, 5, 1, 4, 2, 2, 5, 5, 5, 5, 5, 5, 5, 1, 5, 5, 5, 5, 5, 1, 5, 5, 5, 2, 5, 3, 2, 2, 5, 5, 5, 3, 5, 5, 5, 3, 5, 5, 5, 3, 2, 0, 5, 3, 2, 5, 3, 2, 2, 1, 1, 3, 4, 1, 2, 4, 3, 4, 2, 3, 5, 5, 5, 5, 5, 5, 1, 3, 3, 4, 5, 3, 1, 5, 3, 5, 1, 5, 1, 5, 2, 5, 5, 1, 5, 2, 5, 5, 5, 5, 5, 5, 3, 5, 5, 5, 2, 3, 3, 5, 5, 1, 2, 0, 3, 2, 2, 1, 1, 5, 5, 2, 2, 5, 2, 5, 5, 5, 5, 0, 5, 5, 3, 5, 5, 3, 1, 3, 5, 4, 5, 2, 5, 3, 5, 5, 3, 5, 5, 5, 5, 4, 5, 5, 1, 3, 5, 3, 1, 3, 1, 5, 5, 5, 1, 3, 5, 2, 1, 5, 5, 2, 2, 5, 1, 5, 5, 5, 5, 3, 2, 5, 1, 5, 5, 3, 5, 2, 4, 5, 4, 5, 5, 2, 1, 5, 5, 5, 3, 5, 1, 3, 5, 5, 3, 2, 3, 5, 5, 5, 1, 5, 3, 5, 5, 3, 3, 5, 5, 3, 5, 5, 5, 3, 5, 5, 3, 1, 1, 5, 1, 3, 3, 3, 2, 5, 5, 5, 3, 5, 5, 3, 1, 1, 5, 5, 5, 1, 0, 2, 5, 5, 3, 3, 0, 5, 5, 5, 3, 3, 1, 5, 5, 2, 3, 2, 5, 5, 2, 0, 3, 2, 3, 1, 5, 1, 5, 5, 2, 5, 5, 5, 1, 2, 5, 5, 5, 2, 3, 1, 5, 5, 5, 1, 1, 5, 5, 1, 5, 5, 3, 5, 5, 1, 3, 1, 5, 5, 5, 5, 5, 2, 5, 5, 5, 5, 5, 5, 5, 3, 5, 5, 5, 5, 5, 3, 4, 5, 5, 4, 5, 5, 3, 5, 3, 3, 5, 3, 5, 3, 1, 5, 5, 3, 2, 5, 5, 5, 5, 1, 4, 3, 5, 5, 1, 5, 3, 5, 1, 5, 1, 1, 3, 5, 3, 5, 5, 2, 3, 5, 5, 1, 5, 5, 5, 5, 1, 5, 5, 5, 1, 3, 3, 5, 2, 3, 4, 3, 3, 5, 1, 5, 1, 1, 5, 1, 5, 5, 3, 5, 5, 3, 5, 3, 5, 5, 5, 5, 3, 3, 5, 5, 5, 5, 5, 3, 3, 5, 3, 5, 2, 1, 5, 5, 5, 3, 3, 3, 5, 5, 3, 5, 5, 3, 1, 5, 5, 5, 5, 5, 3, 5, 3, 5, 5, 5, 3, 1, 3, 5, 3, 5, 3, 5, 1, 5, 5, 4, 5, 4, 4, 5, 2, 5, 1, 5, 3, 5, 5, 5, 5, 3, 3, 4, 5, 1, 5, 3, 4, 5, 5, 1, 5, 4, 4, 4, 5, 5, 5, 4, 3, 5, 3, 5, 5, 3, 5, 3, 5, 4, 5, 5, 5, 3, 1, 5, 4, 4, 5, 5, 5, 0, 5, 2, 5, 5, 3, 3, 1, 5, 4, 5, 5, 1, 5, 5, 1, 5, 5, 1, 5, 5, 3, 1, 3, 5, 5, 3, 5, 0, 4, 5, 3, 1, 5, 5, 4, 1, 5, 5, 5, 1, 4, 5, 5, 4, 5, 5, 5, 4, 5, 5, 1, 4, 1, 3, 3, 3, 5, 5, 3, 5, 4, 5, 5, 5, 5, 3, 2, 5, 5, 3, 4, 5, 1, 3, 5, 5, 5, 5, 5, 5, 5, 3, 4, 5, 3, 1, 3, 3, 5, 0, 5, 4, 5, 5, 3, 4, 5, 2, 5, 4, 5, 1, 4, 4, 5, 3, 0, 2, 1, 1, 5, 5, 5, 1, 1, 3, 0, 5, 4, 1, 3, 1, 1, 2, 3, 1, 3, 5, 3, 1, 3, 3, 1, 2, 3, 3, 3, 3, 0, 1, 2, 0, 0, 1, 4, 1, 5, 5, 3, 2, 2, 5, 5, 3, 5, 4, 3, 5, 3, 5, 2, 5, 3, 5, 3, 1, 5, 1, 3, 3, 2, 4, 1, 5, 3, 1, 5, 1, 1, 1, 1, 3, 4, 1, 2, 3, 3, 1, 2, 2, 5, 2, 5, 5, 5, 3, 5, 5, 5, 1, 5, 3, 4, 5, 5, 1, 3, 2, 4, 5, 5, 5, 0, 4, 2, 2, 1, 5, 5, 5, 1, 2, 1, 1, 5, 3, 1, 2, 1, 1, 5, 5, 0, 5, 5, 1, 3, 5, 1, 3, 3, 0, 2, 4, 1, 5, 1, 5, 4, 4, 5, 5, 5, 3, 2, 0, 3, 2, 4, 0, 4, 2, 2, 1, 1, 5, 3, 1, 5, 4, 1, 3, 2, 1, 5, 2, 1, 5, 1, 3, 5, 1, 5, 3, 4, 1, 1, 5, 4, 1, 3, 1, 3, 5, 4, 3, 1, 5, 5, 3, 0, 0, 5, 5]\n",
            "Accuracy: 0.17970401691331925\n",
            "F1 Score: 0.1951355314586626\n",
            "Precision: 0.30503800348013205\n",
            "Recall: 0.28089027102723135\n"
          ]
        }
      ]
    }
  ]
}